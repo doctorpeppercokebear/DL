{
 "cells": [
  {
   "cell_type": "code",
   "execution_count": 5,
   "metadata": {
    "collapsed": true,
    "ExecuteTime": {
     "end_time": "2024-02-27T02:23:46.434562400Z",
     "start_time": "2024-02-27T02:23:44.451063300Z"
    }
   },
   "outputs": [],
   "source": [
    "import tensorflow.keras as keras\n",
    "import numpy as np\n",
    "from sklearn import preprocessing"
   ]
  },
  {
   "cell_type": "markdown",
   "source": [
    "퀴즈\n",
    "앞의 코드를 모든 단어에 대해 동작하도록 수정하세요"
   ],
   "metadata": {
    "collapsed": false
   }
  },
  {
   "cell_type": "code",
   "execution_count": 6,
   "outputs": [],
   "source": [
    "def make_xy(word):\n",
    "    bin = preprocessing.LabelBinarizer()\n",
    "    onehot = bin.fit_transform(word)\n",
    "    print(onehot)\n",
    "\n",
    "    x = onehot[:-1]\n",
    "    y = np.argmax(onehot[1:], axis=1)\n",
    "\n",
    "    x = [x]\n",
    "    y = [y]\n",
    "\n",
    "    vocab = sorted('tensor')\n",
    "    vocab = np.array(vocab)\n",
    "\n",
    "    return x, y, vocab"
   ],
   "metadata": {
    "collapsed": false,
    "ExecuteTime": {
     "end_time": "2024-02-27T02:23:46.465800600Z",
     "start_time": "2024-02-27T02:23:46.450144600Z"
    }
   }
  },
  {
   "cell_type": "code",
   "execution_count": 10,
   "outputs": [
    {
     "ename": "ValueError",
     "evalue": "Expected array-like (array or non-string sequence), got 'desktop'",
     "output_type": "error",
     "traceback": [
      "\u001B[1;31m---------------------------------------------------------------------------\u001B[0m",
      "\u001B[1;31mValueError\u001B[0m                                Traceback (most recent call last)",
      "Cell \u001B[1;32mIn[10], line 36\u001B[0m\n\u001B[0;32m     32\u001B[0m     \u001B[38;5;28mprint\u001B[39m(vocab[p_arg])\n\u001B[0;32m     35\u001B[0m \u001B[38;5;66;03m# rnn_char_3('tensor')\u001B[39;00m\n\u001B[1;32m---> 36\u001B[0m \u001B[43mrnn_char_3\u001B[49m\u001B[43m(\u001B[49m\u001B[38;5;124;43m'\u001B[39;49m\u001B[38;5;124;43mdesktop\u001B[39;49m\u001B[38;5;124;43m'\u001B[39;49m\u001B[43m)\u001B[49m\n",
      "Cell \u001B[1;32mIn[10], line 2\u001B[0m, in \u001B[0;36mrnn_char_3\u001B[1;34m(word)\u001B[0m\n\u001B[0;32m      1\u001B[0m \u001B[38;5;28;01mdef\u001B[39;00m \u001B[38;5;21mrnn_char_3\u001B[39m(word):\n\u001B[1;32m----> 2\u001B[0m     x, y, vocab \u001B[38;5;241m=\u001B[39m \u001B[43mmake_xy\u001B[49m\u001B[43m(\u001B[49m\u001B[43mword\u001B[49m\u001B[43m)\u001B[49m\n\u001B[0;32m      3\u001B[0m     \u001B[38;5;28mprint\u001B[39m(x\u001B[38;5;241m.\u001B[39mshape, y\u001B[38;5;241m.\u001B[39mshape)     \u001B[38;5;66;03m# (1, 5, 6) (1, 5)\u001B[39;00m\n\u001B[0;32m      5\u001B[0m     model \u001B[38;5;241m=\u001B[39m keras\u001B[38;5;241m.\u001B[39mSequential([\n\u001B[0;32m      6\u001B[0m         keras\u001B[38;5;241m.\u001B[39mlayers\u001B[38;5;241m.\u001B[39mInput(shape\u001B[38;5;241m=\u001B[39m(\u001B[38;5;241m5\u001B[39m, \u001B[38;5;241m6\u001B[39m)),\n\u001B[0;32m      7\u001B[0m         keras\u001B[38;5;241m.\u001B[39mlayers\u001B[38;5;241m.\u001B[39mSimpleRNN(\u001B[38;5;241m16\u001B[39m, return_sequences\u001B[38;5;241m=\u001B[39m\u001B[38;5;28;01mTrue\u001B[39;00m),\n\u001B[0;32m      8\u001B[0m         keras\u001B[38;5;241m.\u001B[39mlayers\u001B[38;5;241m.\u001B[39mDense(\u001B[38;5;241m6\u001B[39m, activation\u001B[38;5;241m=\u001B[39m\u001B[38;5;124m'\u001B[39m\u001B[38;5;124msoftmax\u001B[39m\u001B[38;5;124m'\u001B[39m)\n\u001B[0;32m      9\u001B[0m     ])\n",
      "Cell \u001B[1;32mIn[6], line 3\u001B[0m, in \u001B[0;36mmake_xy\u001B[1;34m(word)\u001B[0m\n\u001B[0;32m      1\u001B[0m \u001B[38;5;28;01mdef\u001B[39;00m \u001B[38;5;21mmake_xy\u001B[39m(word):\n\u001B[0;32m      2\u001B[0m     \u001B[38;5;28mbin\u001B[39m \u001B[38;5;241m=\u001B[39m preprocessing\u001B[38;5;241m.\u001B[39mLabelBinarizer()\n\u001B[1;32m----> 3\u001B[0m     onehot \u001B[38;5;241m=\u001B[39m \u001B[38;5;28;43mbin\u001B[39;49m\u001B[38;5;241;43m.\u001B[39;49m\u001B[43mfit_transform\u001B[49m\u001B[43m(\u001B[49m\u001B[43mword\u001B[49m\u001B[43m)\u001B[49m\n\u001B[0;32m      4\u001B[0m     \u001B[38;5;28mprint\u001B[39m(onehot)\n\u001B[0;32m      6\u001B[0m     x \u001B[38;5;241m=\u001B[39m onehot[:\u001B[38;5;241m-\u001B[39m\u001B[38;5;241m1\u001B[39m]\n",
      "File \u001B[1;32m~\\AppData\\Local\\Programs\\Python\\Python39\\lib\\site-packages\\sklearn\\preprocessing\\_label.py:321\u001B[0m, in \u001B[0;36mLabelBinarizer.fit_transform\u001B[1;34m(self, y)\u001B[0m\n\u001B[0;32m    300\u001B[0m \u001B[38;5;28;01mdef\u001B[39;00m \u001B[38;5;21mfit_transform\u001B[39m(\u001B[38;5;28mself\u001B[39m, y):\n\u001B[0;32m    301\u001B[0m \u001B[38;5;250m    \u001B[39m\u001B[38;5;124;03m\"\"\"Fit label binarizer and transform multi-class labels to binary\u001B[39;00m\n\u001B[0;32m    302\u001B[0m \u001B[38;5;124;03m    labels.\u001B[39;00m\n\u001B[0;32m    303\u001B[0m \n\u001B[1;32m   (...)\u001B[0m\n\u001B[0;32m    319\u001B[0m \u001B[38;5;124;03m        will be of CSR format.\u001B[39;00m\n\u001B[0;32m    320\u001B[0m \u001B[38;5;124;03m    \"\"\"\u001B[39;00m\n\u001B[1;32m--> 321\u001B[0m     \u001B[38;5;28;01mreturn\u001B[39;00m \u001B[38;5;28;43mself\u001B[39;49m\u001B[38;5;241;43m.\u001B[39;49m\u001B[43mfit\u001B[49m\u001B[43m(\u001B[49m\u001B[43my\u001B[49m\u001B[43m)\u001B[49m\u001B[38;5;241m.\u001B[39mtransform(y)\n",
      "File \u001B[1;32m~\\AppData\\Local\\Programs\\Python\\Python39\\lib\\site-packages\\sklearn\\preprocessing\\_label.py:289\u001B[0m, in \u001B[0;36mLabelBinarizer.fit\u001B[1;34m(self, y)\u001B[0m\n\u001B[0;32m    276\u001B[0m \u001B[38;5;28;01mdef\u001B[39;00m \u001B[38;5;21mfit\u001B[39m(\u001B[38;5;28mself\u001B[39m, y):\n\u001B[0;32m    277\u001B[0m \u001B[38;5;250m    \u001B[39m\u001B[38;5;124;03m\"\"\"Fit label binarizer.\u001B[39;00m\n\u001B[0;32m    278\u001B[0m \n\u001B[0;32m    279\u001B[0m \u001B[38;5;124;03m    Parameters\u001B[39;00m\n\u001B[1;32m   (...)\u001B[0m\n\u001B[0;32m    287\u001B[0m \u001B[38;5;124;03m    self : returns an instance of self.\u001B[39;00m\n\u001B[0;32m    288\u001B[0m \u001B[38;5;124;03m    \"\"\"\u001B[39;00m\n\u001B[1;32m--> 289\u001B[0m     \u001B[38;5;28mself\u001B[39m\u001B[38;5;241m.\u001B[39my_type_ \u001B[38;5;241m=\u001B[39m \u001B[43mtype_of_target\u001B[49m\u001B[43m(\u001B[49m\u001B[43my\u001B[49m\u001B[43m)\u001B[49m\n\u001B[0;32m    290\u001B[0m     \u001B[38;5;28;01mif\u001B[39;00m \u001B[38;5;124m'\u001B[39m\u001B[38;5;124mmultioutput\u001B[39m\u001B[38;5;124m'\u001B[39m \u001B[38;5;129;01min\u001B[39;00m \u001B[38;5;28mself\u001B[39m\u001B[38;5;241m.\u001B[39my_type_:\n\u001B[0;32m    291\u001B[0m         \u001B[38;5;28;01mraise\u001B[39;00m \u001B[38;5;167;01mValueError\u001B[39;00m(\u001B[38;5;124m\"\u001B[39m\u001B[38;5;124mMultioutput target data is not supported with \u001B[39m\u001B[38;5;124m\"\u001B[39m\n\u001B[0;32m    292\u001B[0m                          \u001B[38;5;124m\"\u001B[39m\u001B[38;5;124mlabel binarization\u001B[39m\u001B[38;5;124m\"\u001B[39m)\n",
      "File \u001B[1;32m~\\AppData\\Local\\Programs\\Python\\Python39\\lib\\site-packages\\sklearn\\utils\\multiclass.py:254\u001B[0m, in \u001B[0;36mtype_of_target\u001B[1;34m(y)\u001B[0m\n\u001B[0;32m    250\u001B[0m valid \u001B[38;5;241m=\u001B[39m ((\u001B[38;5;28misinstance\u001B[39m(y, (Sequence, spmatrix)) \u001B[38;5;129;01mor\u001B[39;00m \u001B[38;5;28mhasattr\u001B[39m(y, \u001B[38;5;124m'\u001B[39m\u001B[38;5;124m__array__\u001B[39m\u001B[38;5;124m'\u001B[39m))\n\u001B[0;32m    251\u001B[0m          \u001B[38;5;129;01mand\u001B[39;00m \u001B[38;5;129;01mnot\u001B[39;00m \u001B[38;5;28misinstance\u001B[39m(y, \u001B[38;5;28mstr\u001B[39m))\n\u001B[0;32m    253\u001B[0m \u001B[38;5;28;01mif\u001B[39;00m \u001B[38;5;129;01mnot\u001B[39;00m valid:\n\u001B[1;32m--> 254\u001B[0m     \u001B[38;5;28;01mraise\u001B[39;00m \u001B[38;5;167;01mValueError\u001B[39;00m(\u001B[38;5;124m'\u001B[39m\u001B[38;5;124mExpected array-like (array or non-string sequence), \u001B[39m\u001B[38;5;124m'\u001B[39m\n\u001B[0;32m    255\u001B[0m                      \u001B[38;5;124m'\u001B[39m\u001B[38;5;124mgot \u001B[39m\u001B[38;5;132;01m%r\u001B[39;00m\u001B[38;5;124m'\u001B[39m \u001B[38;5;241m%\u001B[39m y)\n\u001B[0;32m    257\u001B[0m sparse_pandas \u001B[38;5;241m=\u001B[39m (y\u001B[38;5;241m.\u001B[39m\u001B[38;5;18m__class__\u001B[39m\u001B[38;5;241m.\u001B[39m\u001B[38;5;18m__name__\u001B[39m \u001B[38;5;129;01min\u001B[39;00m [\u001B[38;5;124m'\u001B[39m\u001B[38;5;124mSparseSeries\u001B[39m\u001B[38;5;124m'\u001B[39m, \u001B[38;5;124m'\u001B[39m\u001B[38;5;124mSparseArray\u001B[39m\u001B[38;5;124m'\u001B[39m])\n\u001B[0;32m    258\u001B[0m \u001B[38;5;28;01mif\u001B[39;00m sparse_pandas:\n",
      "\u001B[1;31mValueError\u001B[0m: Expected array-like (array or non-string sequence), got 'desktop'"
     ]
    }
   ],
   "source": [
    "def rnn_char_3(word):\n",
    "    x, y, vocab = make_xy(word)\n",
    "    print(x.shape, y.shape)     # (1, 5, 6) (1, 5)\n",
    "\n",
    "    model = keras.Sequential([\n",
    "        keras.layers.Input(shape=(5, 6)),\n",
    "        keras.layers.SimpleRNN(16, return_sequences=True),\n",
    "        keras.layers.Dense(6, activation='softmax')\n",
    "    ])\n",
    "\n",
    "    model.compile(optimizer=keras.optimizers.Adam(0.1),\n",
    "                  loss=keras.losses.sparse_categorical_crossentropy,\n",
    "                  metrics='acc')\n",
    "\n",
    "    model.fit(x, y, epochs=10, verbose=2)\n",
    "\n",
    "    # 퀴즈\n",
    "    # x, y를 3차원으로 변경했을 때의 에러를 수정하세요\n",
    "    p = model.predict(x, verbose=0)\n",
    "    print(p)\n",
    "\n",
    "    p_arg = np.argmax(p, axis=2)\n",
    "    print(p_arg)                # [[0 1 4 2 3]]\n",
    "\n",
    "    print('acc :', np.mean(p_arg == y))\n",
    "\n",
    "    # 퀴즈\n",
    "    # 예측 결과를 디코딩하세요\n",
    "    print([i for i in p_arg[0]])\n",
    "    print([vocab[i] for i in p_arg[0]])\n",
    "    print(vocab[p_arg[0]])\n",
    "    print(vocab[p_arg])\n",
    "\n",
    "\n",
    "# rnn_char_3('tensor')\n",
    "rnn_char_3('desktop')"
   ],
   "metadata": {
    "collapsed": false,
    "ExecuteTime": {
     "end_time": "2024-02-27T02:28:30.601927900Z",
     "start_time": "2024-02-27T02:28:30.535378Z"
    }
   }
  },
  {
   "cell_type": "code",
   "execution_count": null,
   "outputs": [],
   "source": [],
   "metadata": {
    "collapsed": false
   }
  }
 ],
 "metadata": {
  "kernelspec": {
   "display_name": "Python 3",
   "language": "python",
   "name": "python3"
  },
  "language_info": {
   "codemirror_mode": {
    "name": "ipython",
    "version": 2
   },
   "file_extension": ".py",
   "mimetype": "text/x-python",
   "name": "python",
   "nbconvert_exporter": "python",
   "pygments_lexer": "ipython2",
   "version": "2.7.6"
  }
 },
 "nbformat": 4,
 "nbformat_minor": 0
}
