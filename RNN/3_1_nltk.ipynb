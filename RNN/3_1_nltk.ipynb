{
 "cells": [
  {
   "cell_type": "code",
   "execution_count": 2,
   "metadata": {
    "collapsed": true,
    "ExecuteTime": {
     "end_time": "2024-02-26T01:13:47.875688Z",
     "start_time": "2024-02-26T01:13:46.713777100Z"
    }
   },
   "outputs": [],
   "source": [
    "import re\n",
    "\n",
    "# nltk install\n",
    "import nltk # natural language tool-kit"
   ]
  },
  {
   "cell_type": "code",
   "execution_count": 4,
   "outputs": [],
   "source": [
    "# download\n",
    "\n",
    "def dataset():\n",
    "    nltk.download('gutenberg')\n",
    "    nltk.download('stopwords')\n",
    "    nltk.download('wordnet')\n",
    "    nltk.download('reuters')\n",
    "    nltk.download('punkt')\n",
    "\n",
    "    nltk.download()\n",
    "\n",
    "# dataset()"
   ],
   "metadata": {
    "collapsed": false,
    "ExecuteTime": {
     "end_time": "2024-02-26T01:14:30.949782700Z",
     "start_time": "2024-02-26T01:14:30.934132900Z"
    }
   }
  },
  {
   "cell_type": "code",
   "execution_count": 8,
   "outputs": [
    {
     "name": "stdout",
     "output_type": "stream",
     "text": [
      "<PlaintextCorpusReader in 'C:\\\\Users\\\\Harmony05\\\\AppData\\\\Roaming\\\\nltk_data\\\\corpora\\\\gutenberg'>\n",
      "['austen-emma.txt', 'austen-persuasion.txt', 'austen-sense.txt', 'bible-kjv.txt', 'blake-poems.txt', 'bryant-stories.txt', 'burgess-busterbrown.txt', 'carroll-alice.txt', 'chesterton-ball.txt', 'chesterton-brown.txt', 'chesterton-thursday.txt', 'edgeworth-parents.txt', 'melville-moby_dick.txt', 'milton-paradise.txt', 'shakespeare-caesar.txt', 'shakespeare-hamlet.txt', 'shakespeare-macbeth.txt', 'whitman-leaves.txt']\n"
     ]
    },
    {
     "ename": "AttributeError",
     "evalue": "module 'nltk' has no attribute 'gutenberg'",
     "output_type": "error",
     "traceback": [
      "\u001B[1;31m---------------------------------------------------------------------------\u001B[0m",
      "\u001B[1;31mAttributeError\u001B[0m                            Traceback (most recent call last)",
      "Cell \u001B[1;32mIn[8], line 16\u001B[0m\n\u001B[0;32m     13\u001B[0m     \u001B[38;5;28mprint\u001B[39m(re\u001B[38;5;241m.\u001B[39mfindall(\u001B[38;5;124mr\u001B[39m\u001B[38;5;124m'\u001B[39m\u001B[38;5;124m\\\u001B[39m\u001B[38;5;124mw+\u001B[39m\u001B[38;5;124m'\u001B[39m, emma)[:\u001B[38;5;241m10\u001B[39m])\n\u001B[0;32m     14\u001B[0m     \u001B[38;5;28mprint\u001B[39m(re\u001B[38;5;241m.\u001B[39mfindall(\u001B[38;5;124mr\u001B[39m\u001B[38;5;124m'\u001B[39m\u001B[38;5;124m[a-zA-Z]+\u001B[39m\u001B[38;5;124m'\u001B[39m, emma)[:\u001B[38;5;241m10\u001B[39m])\n\u001B[1;32m---> 16\u001B[0m \u001B[43mcorpus\u001B[49m\u001B[43m(\u001B[49m\u001B[43m)\u001B[49m\n",
      "Cell \u001B[1;32mIn[8], line 5\u001B[0m, in \u001B[0;36mcorpus\u001B[1;34m()\u001B[0m\n\u001B[0;32m      2\u001B[0m \u001B[38;5;28mprint\u001B[39m(nltk\u001B[38;5;241m.\u001B[39mcorpus\u001B[38;5;241m.\u001B[39mgutenberg)\n\u001B[0;32m      3\u001B[0m \u001B[38;5;28mprint\u001B[39m(nltk\u001B[38;5;241m.\u001B[39mcorpus\u001B[38;5;241m.\u001B[39mgutenberg\u001B[38;5;241m.\u001B[39mfileids())\n\u001B[1;32m----> 5\u001B[0m emma \u001B[38;5;241m=\u001B[39m \u001B[43mnltk\u001B[49m\u001B[38;5;241;43m.\u001B[39;49m\u001B[43mgutenberg\u001B[49m\u001B[38;5;241m.\u001B[39mraw(\u001B[38;5;124m'\u001B[39m\u001B[38;5;124mausten-emma.txt\u001B[39m\u001B[38;5;124m'\u001B[39m)\n\u001B[0;32m      6\u001B[0m \u001B[38;5;28mprint\u001B[39m(emma[:\u001B[38;5;241m100\u001B[39m])\n\u001B[0;32m      8\u001B[0m words \u001B[38;5;241m=\u001B[39m nltk\u001B[38;5;241m.\u001B[39mcorpus\u001B[38;5;241m.\u001B[39mgutenberg\u001B[38;5;241m.\u001B[39mwords(\u001B[38;5;124m'\u001B[39m\u001B[38;5;124mausten-emma.txt\u001B[39m\u001B[38;5;124m'\u001B[39m)\n",
      "\u001B[1;31mAttributeError\u001B[0m: module 'nltk' has no attribute 'gutenberg'"
     ]
    }
   ],
   "source": [
    "def corpus():\n",
    "    print(nltk.corpus.gutenberg)\n",
    "    print(nltk.corpus.gutenberg.fileids())\n",
    "\n",
    "    emma = nltk.gutenberg.raw('austen-emma.txt')\n",
    "    print(emma[:100])\n",
    "\n",
    "    words = nltk.corpus.gutenberg.words('austen-emma.txt')\n",
    "    print(words)\n",
    "\n",
    "    # 퀴즈\n",
    "    # emma 텍스트로부터 단어만 추출하세요\n",
    "    print(re.findall(r'\\w+', emma)[:10])\n",
    "    print(re.findall(r'[a-zA-Z]+', emma)[:10])\n",
    "\n",
    "corpus()"
   ],
   "metadata": {
    "collapsed": false,
    "ExecuteTime": {
     "end_time": "2024-02-26T01:15:23.801302200Z",
     "start_time": "2024-02-26T01:15:23.733884500Z"
    }
   }
  },
  {
   "cell_type": "code",
   "execution_count": 13,
   "outputs": [
    {
     "name": "stdout",
     "output_type": "stream",
     "text": [
      "['[Emma', 'by', 'Jane', 'Austen', '1816]\\n\\nVOLUME', 'I\\n\\nCHAPTER', 'I\\n\\n\\nEmma', 'Woodhouse,', 'handsome,', 'clever,', 'and', 'rich,', 'with', 'a', 'comfortable', 'home\\nand', 'happy', 'disposition,', 'seemed', 'to', 'unite', 'some', 'of', 'the', 'best', 'blessings\\nof', 'existence;', 'and', 'had', 'lived', 'nearly', 'twenty-one', 'years', 'in', 'the', 'world\\nwith', 'very', 'little', 'to', 'distress', 'or', 'vex', 'her.\\n\\nShe', 'was', 'the', 'youngest', 'of', 'the', 'two', 'daughters', 'of', 'a', 'most', 'affectionate,\\nindulgent', 'father;', 'and', 'had,', 'in', 'consequence', 'of', 'her', \"sister's\", 'marriage,\\nbeen', 'mistress', 'of', 'his', 'house', 'from', 'a', 'very', 'early', 'period.', '', 'Her', 'mother\\nhad', 'died', 'too', 'long', 'ago', 'for', 'her', 'to', 'have', 'more', 'than', 'an', 'indistinct\\nremembrance', 'of', 'her', 'caresses;', 'and', 'her', 'place', 'had', 'been', 'supplied\\nby', 'an', 'excellent', 'woman', 'as', 'governess,', 'who', 'had', 'fallen', 'little', 'short\\nof', 'a', 'mother', 'in', 'affection.\\n\\nSixteen', 'years', 'had', 'Miss', 'Taylor', 'been', 'in', 'Mr.', \"Woodhouse's\", 'family,\\nless', 'as', 'a', 'governess', 'than', 'a', 'friend,', 'very', 'fond', 'of', 'both', 'daughters,\\nbut', 'particularly', 'of', 'Emma.', '', 'Between', '_them_', 'it', 'was', 'more', 'the', 'intimacy\\nof', 'sisters.', '', 'Even', 'before', 'Miss', 'Taylor', 'had', 'ceased', 'to', 'hold', 'the', 'nominal\\noffice', 'of', 'governess,', 'the', 'mildness', 'o']\n",
      "['[Emma by Jane Austen 1816]\\n\\nVOLUME I\\n\\nCHAPTER I\\n\\n\\nEmma Woodhouse, handsome, clever, and rich, with a comfortable home\\nand happy disposition, seemed to unite some of the best blessings\\nof existence; and had lived nearly twenty-one years in the world\\nwith very little to distress or vex her.', \"She was the youngest of the two daughters of a most affectionate,\\nindulgent father; and had, in consequence of her sister's marriage,\\nbeen mistress of his house from a very early period.\", 'Her mother\\nhad died too long ago for her to have more than an indistinct\\nremembrance of her caresses; and her place had been supplied\\nby an excellent woman as governess, who had fallen little short\\nof a mother in affection.', \"Sixteen years had Miss Taylor been in Mr. Woodhouse's family,\\nless as a governess than a friend, very fond of both daughters,\\nbut particularly of Emma.\", 'Between _them_ it was more the intimacy\\nof sisters.', 'Even before Miss Taylor had ceased to hold the nominal\\noffice of governess, the mildness o']\n",
      "--------------------------------------------------\n",
      "['Emma', 'by', 'Jane', 'Austen', '1816', 'VOLUME', 'I', 'CHAPTER', 'I', 'Emma', 'Woodhouse', 'handsome', 'clever', 'and', 'rich', 'with', 'a', 'comfortable', 'home', 'and', 'happy', 'disposition', 'seemed', 'to', 'unite', 'some', 'of', 'the', 'best', 'blessings', 'of', 'existence', 'and', 'had', 'lived', 'nearly', 'twenty', 'one', 'years', 'in', 'the', 'world', 'with', 'very', 'little', 'to', 'distress', 'or', 'vex', 'her', 'She', 'was', 'the', 'youngest', 'of', 'the', 'two', 'daughters', 'of', 'a', 'most', 'affectionate', 'indulgent', 'father', 'and', 'had', 'in', 'consequence', 'of', 'her', 'sister', 's', 'marriage', 'been', 'mistress', 'of', 'his', 'house', 'from', 'a', 'very', 'early', 'period', 'Her', 'mother', 'had', 'died', 'too', 'long', 'ago', 'for', 'her', 'to', 'have', 'more', 'than', 'an', 'indistinct', 'remembrance', 'of', 'her', 'caresses', 'and', 'her', 'place', 'had', 'been', 'supplied', 'by', 'an', 'excellent', 'woman', 'as', 'governess', 'who', 'had', 'fallen', 'little', 'short', 'of', 'a', 'mother', 'in', 'affection', 'Sixteen', 'years', 'had', 'Miss', 'Taylor', 'been', 'in', 'Mr', 'Woodhouse', 's', 'family', 'less', 'as', 'a', 'governess', 'than', 'a', 'friend', 'very', 'fond', 'of', 'both', 'daughters', 'but', 'particularly', 'of', 'Emma', 'Between', '_them_', 'it', 'was', 'more', 'the', 'intimacy', 'of', 'sisters', 'Even', 'before', 'Miss', 'Taylor', 'had', 'ceased', 'to', 'hold', 'the', 'nominal', 'office', 'of', 'governess', 'the', 'mildness', 'o']\n",
      "--------------------------------------------------\n",
      "['[', 'Emma', 'by', 'Jane', 'Austen', '1816', ']', 'VOLUME', 'I', 'CHAPTER', 'I', 'Emma', 'Woodhouse', ',', 'handsome', ',', 'clever', ',', 'and', 'rich', ',', 'with', 'a', 'comfortable', 'home', 'and', 'happy', 'disposition', ',', 'seemed', 'to', 'unite', 'some', 'of', 'the', 'best', 'blessings', 'of', 'existence', ';', 'and', 'had', 'lived', 'nearly', 'twenty', '-', 'one', 'years', 'in', 'the', 'world', 'with', 'very', 'little', 'to', 'distress', 'or', 'vex', 'her', '.', 'She', 'was', 'the', 'youngest', 'of', 'the', 'two', 'daughters', 'of', 'a', 'most', 'affectionate', ',', 'indulgent', 'father', ';', 'and', 'had', ',', 'in', 'consequence', 'of', 'her', 'sister', \"'\", 's', 'marriage', ',', 'been', 'mistress', 'of', 'his', 'house', 'from', 'a', 'very', 'early', 'period', '.', 'Her', 'mother', 'had', 'died', 'too', 'long', 'ago', 'for', 'her', 'to', 'have', 'more', 'than', 'an', 'indistinct', 'remembrance', 'of', 'her', 'caresses', ';', 'and', 'her', 'place', 'had', 'been', 'supplied', 'by', 'an', 'excellent', 'woman', 'as', 'governess', ',', 'who', 'had', 'fallen', 'little', 'short', 'of', 'a', 'mother', 'in', 'affection', '.', 'Sixteen', 'years', 'had', 'Miss', 'Taylor', 'been', 'in', 'Mr', '.', 'Woodhouse', \"'\", 's', 'family', ',', 'less', 'as', 'a', 'governess', 'than', 'a', 'friend', ',', 'very', 'fond', 'of', 'both', 'daughters', ',', 'but', 'particularly', 'of', 'Emma', '.', 'Between', '_them_', 'it', 'was', 'more', 'the', 'intimacy', 'of', 'sisters', '.', 'Even', 'before', 'Miss', 'Taylor', 'had', 'ceased', 'to', 'hold', 'the', 'nominal', 'office', 'of', 'governess', ',', 'the', 'mildness', 'o']\n"
     ]
    }
   ],
   "source": [
    "def tokenize():\n",
    "    emma = nltk.corpus.gutenberg.raw('austen-emma.txt')\n",
    "    emma = emma[:1000]\n",
    "\n",
    "    print(nltk.tokenize.simple.SpaceTokenizer().tokenize(emma))\n",
    "    print(nltk.tokenize.sent_tokenize(emma))\n",
    "\n",
    "    print(\"-\" * 50)\n",
    "\n",
    "    print(nltk.tokenize.RegexpTokenizer(r'\\w+').tokenize(emma))\n",
    "    print(\"-\" * 50)\n",
    "    print(nltk.tokenize.WordPunctTokenizer().tokenize(emma))\n",
    "\n",
    "tokenize()"
   ],
   "metadata": {
    "collapsed": false,
    "ExecuteTime": {
     "end_time": "2024-02-26T01:17:41.950273300Z",
     "start_time": "2024-02-26T01:17:41.934624800Z"
    }
   }
  },
  {
   "cell_type": "code",
   "execution_count": 22,
   "outputs": [
    {
     "name": "stdout",
     "output_type": "stream",
     "text": [
      "live\n",
      "die\n",
      "fli\n",
      "['live', 'die', 'fli', 'die']\n",
      "['liv', 'die', 'fli', 'died']\n"
     ]
    }
   ],
   "source": [
    "# 어간 추출\n",
    "def stemming():\n",
    "    words = ['lives', 'die', 'flies', 'died']\n",
    "\n",
    "    st = nltk.stem.PorterStemmer()\n",
    "    print(st.stem('lives'))\n",
    "\n",
    "    # 퀴즈\n",
    "    # words 리스트에 대해 어간을 추출하세요\n",
    "    print(st.stem('died'))         # stem() 함수를 호출할 때, 인자로는 처리할 단어 하나만 전달\n",
    "    print(st.stem('flies'))\n",
    "\n",
    "    # 강사님 코드\n",
    "    print([st.stem(w) for w in words])      # for 문ㅇ을 이용해서 한번에 추출\n",
    "\n",
    "    st = nltk.stem.LancasterStemmer()\n",
    "    print([st.stem(w) for w in words])\n",
    "\n",
    "\n",
    "\n",
    "stemming()\n"
   ],
   "metadata": {
    "collapsed": false,
    "ExecuteTime": {
     "end_time": "2024-02-26T01:29:11.173553800Z",
     "start_time": "2024-02-26T01:29:11.157827100Z"
    }
   }
  },
  {
   "cell_type": "code",
   "execution_count": 30,
   "outputs": [
    {
     "name": "stdout",
     "output_type": "stream",
     "text": [
      "['h', 'o', 'o', 'n', ' ', 'w', 'o', 'r', 'k', 's', ' ', 'a', 's', ' ', 'c', 'a', 'r', 'r', 'o', 't']\n",
      "[('hoon', 'works'), ('works', 'as'), ('as', 'carrot')]\n",
      "[['hoon', 'works'], ['works', 'as'], ['as', 'carrot']]\n",
      "[('hoon', 'works'), ('works', 'as'), ('as', 'carrot')]\n",
      "[('hoon', 'works', 'as'), ('works', 'as', 'carrot')]\n",
      "[('hoon', 'works', 'as', 'carrot')]\n"
     ]
    }
   ],
   "source": [
    "def grams():\n",
    "    text = 'hoon works as carrot'\n",
    "\n",
    "    # 퀴즈\n",
    "    # text를 단어 2개씩 으로 묶어 주세요\n",
    "    # [(hoon, words), (words, at), (at, carrot)\n",
    "\n",
    "    st = nltk.stem.LancasterStemmer()\n",
    "    print([st.stem(w) for w in text])\n",
    "\n",
    "   # 강사님 코드\n",
    "    tokens = text.split()       # 단어 별로 분리\n",
    "    # print(tokens)\n",
    "    print([(tokens[i], tokens[i+1]) for i in range(len(tokens)-1)])\n",
    "    print([tokens[i:i+2] for i in range(len(tokens)-1)])\n",
    "\n",
    "    print(list(nltk.bigrams(tokens)))       # 2개씩 묶음\n",
    "    print(list(nltk.trigrams(tokens)))      # 3개씩 묶음\n",
    "    print(list(nltk.ngrams(tokens, 4)))     # n개씩 자른다\n",
    "\n",
    "grams()"
   ],
   "metadata": {
    "collapsed": false,
    "ExecuteTime": {
     "end_time": "2024-02-26T01:42:31.606847600Z",
     "start_time": "2024-02-26T01:42:31.591249100Z"
    }
   }
  },
  {
   "cell_type": "code",
   "execution_count": null,
   "outputs": [],
   "source": [],
   "metadata": {
    "collapsed": false
   }
  }
 ],
 "metadata": {
  "kernelspec": {
   "display_name": "Python 3",
   "language": "python",
   "name": "python3"
  },
  "language_info": {
   "codemirror_mode": {
    "name": "ipython",
    "version": 2
   },
   "file_extension": ".py",
   "mimetype": "text/x-python",
   "name": "python",
   "nbconvert_exporter": "python",
   "pygments_lexer": "ipython2",
   "version": "2.7.6"
  }
 },
 "nbformat": 4,
 "nbformat_minor": 0
}
