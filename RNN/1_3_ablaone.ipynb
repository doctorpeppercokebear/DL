{
 "cells": [
  {
   "cell_type": "markdown",
   "source": [
    "## 퀴즈\n",
    "### abalone file에 대해 70%로 학습하고 30% 대해 결과를 구하세요"
   ],
   "metadata": {
    "collapsed": false
   }
  },
  {
   "cell_type": "code",
   "execution_count": 17,
   "metadata": {
    "collapsed": true,
    "ExecuteTime": {
     "end_time": "2024-02-22T07:09:31.889519900Z",
     "start_time": "2024-02-22T07:09:31.887900800Z"
    }
   },
   "outputs": [],
   "source": [
    "import numpy as np\n",
    "import pandas as pd\n",
    "import tensorflow.keras as keras\n",
    "from tensorflow.keras.layers import Dense\n",
    "import numpy\n",
    "from sklearn import preprocessing, model_selection\n",
    "\n"
   ]
  },
  {
   "cell_type": "code",
   "execution_count": 22,
   "outputs": [
    {
     "name": "stdout",
     "output_type": "stream",
     "text": [
      "[2 2 0 ... 2 0 2]\n",
      "float32\n"
     ]
    },
    {
     "data": {
      "text/plain": "(array([[ 0.455 ,  0.365 ,  0.095 , ...,  0.101 ,  0.15  , 15.    ],\n        [ 0.35  ,  0.265 ,  0.09  , ...,  0.0485,  0.07  ,  7.    ],\n        [ 0.53  ,  0.42  ,  0.135 , ...,  0.1415,  0.21  ,  9.    ],\n        ...,\n        [ 0.6   ,  0.475 ,  0.205 , ...,  0.2875,  0.308 ,  9.    ],\n        [ 0.625 ,  0.485 ,  0.15  , ...,  0.261 ,  0.296 , 10.    ],\n        [ 0.71  ,  0.555 ,  0.195 , ...,  0.3765,  0.495 , 12.    ]],\n       dtype=float32),\n array([2, 2, 0, ..., 2, 0, 2]))"
     },
     "execution_count": 22,
     "metadata": {},
     "output_type": "execute_result"
    }
   ],
   "source": [
    "def read_abalone():\n",
    "    abalone = pd.read_csv('data/abalone.data', header=None)\n",
    "    # print(abalone)\n",
    "\n",
    "    # 엔코딩\n",
    "    enc = preprocessing.LabelEncoder()\n",
    "    y = enc.fit_transform(abalone[0].values)\n",
    "    print(y)\n",
    "\n",
    "    x = abalone.values[:, 1:]  # 행, 열\n",
    "    x = np.float32(x)\n",
    "    print(x.dtype)\n",
    "\n",
    "    return x, y\n",
    "read_abalone()"
   ],
   "metadata": {
    "collapsed": false,
    "ExecuteTime": {
     "end_time": "2024-02-22T07:42:56.642093500Z",
     "start_time": "2024-02-22T07:42:56.622719900Z"
    }
   }
  },
  {
   "cell_type": "code",
   "execution_count": 25,
   "outputs": [],
   "source": [
    "def model_1(x_train, y_train, x_test):\n",
    "    model = keras.Sequential([\n",
    "        keras.layers.Dense(128, activation='relu'),\n",
    "        keras.layers.Dense(64, activation='relu'),\n",
    "        keras.layers.Dense(16, activation='relu'),\n",
    "        keras.layers.Dense(3, activation='softmax')\n",
    "    ])\n",
    "\n",
    "    model.compile(optimizer=keras.optimizers.Adam(0.0001),\n",
    "                  loss=keras.losses.sparse_categorical_crossentropy,\n",
    "                  metrics='acc')\n",
    "\n",
    "    model.fit(x_train, y_train, epochs=50, verbose=2)\n",
    "    return model.predict(x_test, verbose=0)"
   ],
   "metadata": {
    "collapsed": false,
    "ExecuteTime": {
     "end_time": "2024-02-22T07:50:15.400082200Z",
     "start_time": "2024-02-22T07:50:15.382833Z"
    }
   }
  },
  {
   "cell_type": "code",
   "execution_count": 30,
   "outputs": [
    {
     "ename": "TypeError",
     "evalue": "model_2() missing 7 required positional arguments: 'x_train', 'y_train', 'x_test', 'y_test', 'n0', 'n1', and 'n2'",
     "output_type": "error",
     "traceback": [
      "\u001B[1;31m---------------------------------------------------------------------------\u001B[0m",
      "\u001B[1;31mTypeError\u001B[0m                                 Traceback (most recent call last)",
      "Cell \u001B[1;32mIn[30], line 17\u001B[0m\n\u001B[0;32m     14\u001B[0m     \u001B[38;5;28mprint\u001B[39m(model\u001B[38;5;241m.\u001B[39mevaluate(x_test, y_test, verbose\u001B[38;5;241m=\u001B[39m\u001B[38;5;241m0\u001B[39m))\n\u001B[0;32m     15\u001B[0m     \u001B[38;5;28;01mreturn\u001B[39;00m model\u001B[38;5;241m.\u001B[39mpredict(x_test, verbose\u001B[38;5;241m=\u001B[39m\u001B[38;5;241m0\u001B[39m)\n\u001B[1;32m---> 17\u001B[0m \u001B[43mmodel_2\u001B[49m\u001B[43m(\u001B[49m\u001B[43m)\u001B[49m\n",
      "\u001B[1;31mTypeError\u001B[0m: model_2() missing 7 required positional arguments: 'x_train', 'y_train', 'x_test', 'y_test', 'n0', 'n1', and 'n2'"
     ]
    }
   ],
   "source": [
    "def model_2(x_train, y_train, x_test, y_test, n0, n1, n2):\n",
    "    model = keras.Sequential([\n",
    "        keras.layers.Dense(n0, activation='relu'),\n",
    "        keras.layers.Dense(n1, activation='relu'),\n",
    "        keras.layers.Dense(n2, activation='relu'),\n",
    "        keras.layers.Dense(3, activation='softmax')\n",
    "    ])\n",
    "\n",
    "    model.compile(optimizer=keras.optimizers.Adam(0.0001),\n",
    "                  loss=keras.losses.sparse_categorical_crossentropy,\n",
    "                  metrics='acc')\n",
    "\n",
    "    model.fit(x_train, y_train, epochs=50, verbose=0)\n",
    "    print(model.evaluate(x_test, y_test, verbose=0))\n",
    "    return model.predict(x_test, verbose=0)\n",
    "\n",
    "model_2()"
   ],
   "metadata": {
    "collapsed": false,
    "ExecuteTime": {
     "end_time": "2024-02-22T07:55:18.242846800Z",
     "start_time": "2024-02-22T07:55:18.179954Z"
    }
   }
  },
  {
   "cell_type": "markdown",
   "source": [
    "### 앙상블 모델 사용"
   ],
   "metadata": {
    "collapsed": false
   }
  },
  {
   "cell_type": "code",
   "execution_count": 28,
   "outputs": [
    {
     "name": "stdout",
     "output_type": "stream",
     "text": [
      "[2 2 0 ... 2 0 2]\n",
      "float32\n"
     ]
    },
    {
     "name": "stderr",
     "output_type": "stream",
     "text": [
      "C:\\Users\\Harmony05\\AppData\\Local\\Programs\\Python\\Python39\\lib\\site-packages\\sklearn\\preprocessing\\_data.py:194: UserWarning: Numerical issues were encountered when centering the data and might not be solved. Dataset may contain too large values. You may need to prescale your features.\n",
      "  warnings.warn(\"Numerical issues were encountered \"\n",
      "C:\\Users\\Harmony05\\AppData\\Local\\Programs\\Python\\Python39\\lib\\site-packages\\sklearn\\preprocessing\\_data.py:211: UserWarning: Numerical issues were encountered when scaling the data and might not be solved. The standard deviation of the data is probably very close to 0. \n",
      "  warnings.warn(\"Numerical issues were encountered \"\n"
     ]
    },
    {
     "name": "stdout",
     "output_type": "stream",
     "text": [
      "[0.8223028182983398, 0.5789473652839661]\n",
      "[0.8294222950935364, 0.5590111613273621]\n",
      "[0.8298503160476685, 0.5629984140396118]\n",
      "[0.8240167498588562, 0.5869218707084656]\n",
      "[0.8294695019721985, 0.5789473652839661]\n",
      "[0.8228338956832886, 0.5837320685386658]\n",
      "[0.8192406296730042, 0.5837320685386658]\n",
      "acc : 0.5829346092503987\n"
     ]
    }
   ],
   "source": [
    "x, y = read_abalone()\n",
    "\n",
    "x = preprocessing.scale(x)\n",
    "# x = preprocessing.minmax_scale(x)\n",
    "\n",
    "data = model_selection.train_test_split(x, y, train_size=0.7)\n",
    "x_train, x_test, y_train, y_test = data\n",
    "\n",
    "ensemble = np.zeros([len(y_test), 3])\n",
    "for layers in [(128, 64, 16), (64, 32, 12), (64, 16, 8),\n",
    "               (128,48, 16), (64, 16, 16), (128, 32, 32), (256, 64, 64)]:\n",
    "    p = model_2(x_train, y_train, x_test, y_test, *layers)\n",
    "    # print(p.shape)                        # (1254, 3)\n",
    "\n",
    "    ensemble += p\n",
    "\n",
    "p_arg = np.argmax(ensemble, axis=1)\n",
    "print('acc :', np.mean(p_arg == y_test))"
   ],
   "metadata": {
    "collapsed": false,
    "ExecuteTime": {
     "end_time": "2024-02-22T07:54:37.575674Z",
     "start_time": "2024-02-22T07:54:19.193194100Z"
    }
   }
  },
  {
   "cell_type": "code",
   "execution_count": null,
   "outputs": [],
   "source": [],
   "metadata": {
    "collapsed": false
   }
  }
 ],
 "metadata": {
  "kernelspec": {
   "display_name": "Python 3",
   "language": "python",
   "name": "python3"
  },
  "language_info": {
   "codemirror_mode": {
    "name": "ipython",
    "version": 2
   },
   "file_extension": ".py",
   "mimetype": "text/x-python",
   "name": "python",
   "nbconvert_exporter": "python",
   "pygments_lexer": "ipython2",
   "version": "2.7.6"
  }
 },
 "nbformat": 4,
 "nbformat_minor": 0
}
