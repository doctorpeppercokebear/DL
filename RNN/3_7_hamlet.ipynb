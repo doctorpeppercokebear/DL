{
 "cells": [
  {
   "cell_type": "markdown",
   "source": [
    "### 퀴즈\n",
    "### 세익스피어의 햄릿에 나오는 주인공 이름이 출현한 빈도를 막대 그래프로 그려주세요\n"
   ],
   "metadata": {
    "collapsed": false
   }
  },
  {
   "cell_type": "code",
   "execution_count": 15,
   "metadata": {
    "collapsed": true,
    "ExecuteTime": {
     "end_time": "2024-02-26T08:37:20.910133700Z",
     "start_time": "2024-02-26T08:37:20.894495Z"
    }
   },
   "outputs": [
    {
     "name": "stderr",
     "output_type": "stream",
     "text": [
      "[nltk_data] Downloading package punkt to\n",
      "[nltk_data]     C:\\Users\\Harmony05\\AppData\\Roaming\\nltk_data...\n",
      "[nltk_data]   Package punkt is already up-to-date!\n",
      "[nltk_data] Downloading package gutenberg to\n",
      "[nltk_data]     C:\\Users\\Harmony05\\AppData\\Roaming\\nltk_data...\n",
      "[nltk_data]   Package gutenberg is already up-to-date!\n"
     ]
    },
    {
     "data": {
      "text/plain": "True"
     },
     "execution_count": 15,
     "metadata": {},
     "output_type": "execute_result"
    }
   ],
   "source": [
    "import matplotlib.pyplot as plt\n",
    "import nltk\n",
    "import random\n",
    "import string\n",
    "import numpy as np\n",
    "import collections\n",
    "from nltk.corpus import gutenberg\n",
    "from matplotlib import colors\n",
    "\n",
    "nltk.download('punkt')\n",
    "nltk.download('gutenberg')\n"
   ]
  },
  {
   "cell_type": "code",
   "execution_count": 19,
   "outputs": [
    {
     "name": "stdout",
     "output_type": "stream",
     "text": [
      "100\n"
     ]
    }
   ],
   "source": [
    "hamlet = nltk.corpus.gutenberg.raw('shakespeare-hamlet.txt')\n",
    "hamlet = hamlet.lower()\n",
    "tokens = nltk.tokenize.RegexpTokenizer(r'\\w+').tokenize(hamlet)\n",
    "\n",
    "freq = collections.Counter(tokens)          # 튜플 형식으로\n",
    "# print(freq.most_common(10))\n",
    "# print(freq['hamlet'])\n",
    "\n",
    "freq = collections.defaultdict(int)\n",
    "for t in tokens:\n",
    "    freq[t] +=  1\n",
    "print(freq['hamlet'])"
   ],
   "metadata": {
    "collapsed": false,
    "ExecuteTime": {
     "end_time": "2024-02-26T08:41:38.124359600Z",
     "start_time": "2024-02-26T08:41:38.093006900Z"
    }
   }
  },
  {
   "cell_type": "code",
   "execution_count": 20,
   "outputs": [
    {
     "name": "stdout",
     "output_type": "stream",
     "text": [
      "[100, 28, 13, 1, 35]\n"
     ]
    }
   ],
   "source": [
    "actors = ['hamlet', 'ophelia', 'gertrude', 'claudius', 'laertes']\n",
    "counts = [freq[n] for n in actors]      # 리스트 컴프리헨션으로 빈도 계산\n",
    "print(counts)"
   ],
   "metadata": {
    "collapsed": false,
    "ExecuteTime": {
     "end_time": "2024-02-26T08:45:37.666579600Z",
     "start_time": "2024-02-26T08:45:37.666579600Z"
    }
   }
  },
  {
   "cell_type": "markdown",
   "source": [
    "그래프 그리기\n"
   ],
   "metadata": {
    "collapsed": false
   }
  },
  {
   "cell_type": "code",
   "execution_count": 24,
   "outputs": [
    {
     "ename": "NameError",
     "evalue": "name 'colors' is not defined",
     "output_type": "error",
     "traceback": [
      "\u001B[1;31m---------------------------------------------------------------------------\u001B[0m",
      "\u001B[1;31mNameError\u001B[0m                                 Traceback (most recent call last)",
      "Cell \u001B[1;32mIn[24], line 1\u001B[0m\n\u001B[1;32m----> 1\u001B[0m plt\u001B[38;5;241m.\u001B[39mbar(actors, counts, color\u001B[38;5;241m=\u001B[39m\u001B[43mcolors\u001B[49m\u001B[38;5;241m.\u001B[39mTABLEAU_COLORS)\n",
      "\u001B[1;31mNameError\u001B[0m: name 'colors' is not defined"
     ]
    }
   ],
   "source": [
    "plt.bar(actors, counts, color=colors.TABLEAU_COLORS)"
   ],
   "metadata": {
    "collapsed": false,
    "ExecuteTime": {
     "end_time": "2024-02-26T08:49:30.006855700Z",
     "start_time": "2024-02-26T08:49:29.975295900Z"
    }
   }
  },
  {
   "cell_type": "code",
   "execution_count": null,
   "outputs": [],
   "source": [],
   "metadata": {
    "collapsed": false
   }
  }
 ],
 "metadata": {
  "kernelspec": {
   "display_name": "Python 3",
   "language": "python",
   "name": "python3"
  },
  "language_info": {
   "codemirror_mode": {
    "name": "ipython",
    "version": 2
   },
   "file_extension": ".py",
   "mimetype": "text/x-python",
   "name": "python",
   "nbconvert_exporter": "python",
   "pygments_lexer": "ipython2",
   "version": "2.7.6"
  }
 },
 "nbformat": 4,
 "nbformat_minor": 0
}
