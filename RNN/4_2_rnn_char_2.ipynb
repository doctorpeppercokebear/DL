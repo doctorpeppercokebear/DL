{
 "cells": [
  {
   "cell_type": "code",
   "execution_count": 4,
   "outputs": [],
   "source": [
    "import tensorflow.keras as keras\n",
    "from tensorflow.keras.models import Sequential\n",
    "from tensorflow.keras.layers import Dense\n",
    "import numpy as np"
   ],
   "metadata": {
    "collapsed": false,
    "ExecuteTime": {
     "end_time": "2024-02-27T01:10:18.698939200Z",
     "start_time": "2024-02-27T01:10:18.667697700Z"
    }
   }
  },
  {
   "cell_type": "code",
   "execution_count": 5,
   "metadata": {
    "collapsed": true,
    "ExecuteTime": {
     "end_time": "2024-02-27T01:10:20.562074500Z",
     "start_time": "2024-02-27T01:10:19.025380600Z"
    }
   },
   "outputs": [
    {
     "name": "stdout",
     "output_type": "stream",
     "text": [
      "WARNING:tensorflow:Please add `keras.layers.InputLayer` instead of `keras.Input` to Sequential model. `keras.Input` is intended to be used by Functional model.\n",
      "Epoch 1/10\n",
      "1/1 - 0s - loss: 1.6678 - acc: 0.0000e+00\n",
      "Epoch 2/10\n",
      "1/1 - 0s - loss: 1.4877 - acc: 0.4000\n",
      "Epoch 3/10\n",
      "1/1 - 0s - loss: 1.3205 - acc: 0.6000\n",
      "Epoch 4/10\n",
      "1/1 - 0s - loss: 1.1660 - acc: 1.0000\n",
      "Epoch 5/10\n",
      "1/1 - 0s - loss: 1.0243 - acc: 1.0000\n",
      "Epoch 6/10\n",
      "1/1 - 0s - loss: 0.8953 - acc: 1.0000\n",
      "Epoch 7/10\n",
      "1/1 - 0s - loss: 0.7790 - acc: 1.0000\n",
      "Epoch 8/10\n",
      "1/1 - 0s - loss: 0.6751 - acc: 1.0000\n",
      "Epoch 9/10\n",
      "1/1 - 0s - loss: 0.5832 - acc: 1.0000\n",
      "Epoch 10/10\n",
      "1/1 - 0s - loss: 0.5026 - acc: 1.0000\n",
      "[[0.6869934  0.0587481  0.04131114 0.13377838 0.07015739 0.00901154]\n",
      " [0.05165514 0.6730919  0.07955303 0.05070564 0.13497725 0.01001708]\n",
      " [0.0860574  0.11048575 0.12526485 0.08665958 0.5735549  0.01797757]\n",
      " [0.04118085 0.04988469 0.67626715 0.07956792 0.14078164 0.01231766]\n",
      " [0.132688   0.07975891 0.05699396 0.6416707  0.07196808 0.01692038]]\n",
      "acc : 1.0\n"
     ]
    }
   ],
   "source": [
    "def rnn_char_2_sorted():\n",
    "    # tensor -> enorst\n",
    "    x = [[0, 0, 0, 0, 0, 1],  # t\n",
    "         [1, 0, 0, 0, 0, 0],  # e\n",
    "         [0, 1, 0, 0, 0, 0],  # n\n",
    "         [0, 0, 0, 0, 1, 0],  # s\n",
    "         [0, 0, 1, 0, 0, 0]]  # o\n",
    "\n",
    "    y = [0, 1, 4, 2, 3]      # e n s o r\n",
    "\n",
    "    model = keras.Sequential([\n",
    "         keras.layers.Input(shape=(6,)),\n",
    "         keras.layers.Dense(6, activation='softmax')\n",
    "    ])\n",
    "\n",
    "    model.compile(optimizer=keras.optimizers.Adam(0.1),\n",
    "                  loss=keras.losses.sparse_categorical_crossentropy,\n",
    "                  metrics='acc')\n",
    "\n",
    "    model.fit(x, y, epochs=10, verbose=2)\n",
    "\n",
    "    p = model.predict(x, verbose=0)\n",
    "    print(p)\n",
    "\n",
    "    p_arg = np.argmax(p, axis=1)\n",
    "    print('acc :', np.mean(p_arg == y))\n",
    "\n",
    "\n",
    "# rnn_char_1_onehot()\n",
    "rnn_char_2_sorted()"
   ]
  },
  {
   "cell_type": "code",
   "execution_count": 26,
   "outputs": [
    {
     "name": "stdout",
     "output_type": "stream",
     "text": [
      "WARNING:tensorflow:Please add `keras.layers.InputLayer` instead of `keras.Input` to Sequential model. `keras.Input` is intended to be used by Functional model.\n"
     ]
    },
    {
     "ename": "NotImplementedError",
     "evalue": "Cannot convert a symbolic Tensor (simple_rnn_21/strided_slice:0) to a numpy array. This error may indicate that you're trying to pass a Tensor to a NumPy call, which is not supported",
     "output_type": "error",
     "traceback": [
      "\u001B[1;31m---------------------------------------------------------------------------\u001B[0m",
      "\u001B[1;31mNotImplementedError\u001B[0m                       Traceback (most recent call last)",
      "Cell \u001B[1;32mIn[26], line 47\u001B[0m\n\u001B[0;32m     43\u001B[0m     \u001B[38;5;28mprint\u001B[39m(vocab[p_arg])\n\u001B[0;32m     46\u001B[0m \u001B[38;5;66;03m# rnn_char_2_sorted()\u001B[39;00m\n\u001B[1;32m---> 47\u001B[0m \u001B[43mrnn_char_2_simple\u001B[49m\u001B[43m(\u001B[49m\u001B[43m)\u001B[49m\n",
      "Cell \u001B[1;32mIn[26], line 16\u001B[0m, in \u001B[0;36mrnn_char_2_simple\u001B[1;34m()\u001B[0m\n\u001B[0;32m     13\u001B[0m vocab \u001B[38;5;241m=\u001B[39m \u001B[38;5;28msorted\u001B[39m(\u001B[38;5;124m'\u001B[39m\u001B[38;5;124mtensor\u001B[39m\u001B[38;5;124m'\u001B[39m)\n\u001B[0;32m     14\u001B[0m vocab \u001B[38;5;241m=\u001B[39m np\u001B[38;5;241m.\u001B[39marray(vocab)     \u001B[38;5;66;03m# ['e' 'n' 'o' 'r' 's' 't']\u001B[39;00m\n\u001B[1;32m---> 16\u001B[0m model \u001B[38;5;241m=\u001B[39m \u001B[43mkeras\u001B[49m\u001B[38;5;241;43m.\u001B[39;49m\u001B[43mSequential\u001B[49m\u001B[43m(\u001B[49m\u001B[43m[\u001B[49m\n\u001B[0;32m     17\u001B[0m \u001B[43m    \u001B[49m\u001B[43mkeras\u001B[49m\u001B[38;5;241;43m.\u001B[39;49m\u001B[43mlayers\u001B[49m\u001B[38;5;241;43m.\u001B[39;49m\u001B[43mInput\u001B[49m\u001B[43m(\u001B[49m\u001B[43mshape\u001B[49m\u001B[38;5;241;43m=\u001B[39;49m\u001B[43m(\u001B[49m\u001B[38;5;241;43m5\u001B[39;49m\u001B[43m,\u001B[49m\u001B[43m \u001B[49m\u001B[38;5;241;43m6\u001B[39;49m\u001B[43m)\u001B[49m\u001B[43m)\u001B[49m\u001B[43m,\u001B[49m\n\u001B[0;32m     18\u001B[0m \u001B[43m    \u001B[49m\u001B[43mkeras\u001B[49m\u001B[38;5;241;43m.\u001B[39;49m\u001B[43mlayers\u001B[49m\u001B[38;5;241;43m.\u001B[39;49m\u001B[43mSimpleRNN\u001B[49m\u001B[43m(\u001B[49m\u001B[38;5;241;43m16\u001B[39;49m\u001B[43m,\u001B[49m\u001B[43m \u001B[49m\u001B[43mreturn_sequences\u001B[49m\u001B[38;5;241;43m=\u001B[39;49m\u001B[38;5;28;43;01mTrue\u001B[39;49;00m\u001B[43m)\u001B[49m\u001B[43m,\u001B[49m\n\u001B[0;32m     19\u001B[0m \u001B[43m    \u001B[49m\u001B[43mkeras\u001B[49m\u001B[38;5;241;43m.\u001B[39;49m\u001B[43mlayers\u001B[49m\u001B[38;5;241;43m.\u001B[39;49m\u001B[43mDense\u001B[49m\u001B[43m(\u001B[49m\u001B[38;5;241;43m6\u001B[39;49m\u001B[43m,\u001B[49m\u001B[43m \u001B[49m\u001B[43mactivation\u001B[49m\u001B[38;5;241;43m=\u001B[39;49m\u001B[38;5;124;43m'\u001B[39;49m\u001B[38;5;124;43msoftmax\u001B[39;49m\u001B[38;5;124;43m'\u001B[39;49m\u001B[43m)\u001B[49m\n\u001B[0;32m     20\u001B[0m \u001B[43m\u001B[49m\u001B[43m]\u001B[49m\u001B[43m)\u001B[49m\n\u001B[0;32m     22\u001B[0m model\u001B[38;5;241m.\u001B[39mcompile(optimizer\u001B[38;5;241m=\u001B[39mkeras\u001B[38;5;241m.\u001B[39moptimizers\u001B[38;5;241m.\u001B[39mAdam(\u001B[38;5;241m0.1\u001B[39m),\n\u001B[0;32m     23\u001B[0m               loss\u001B[38;5;241m=\u001B[39mkeras\u001B[38;5;241m.\u001B[39mlosses\u001B[38;5;241m.\u001B[39msparse_categorical_crossentropy,\n\u001B[0;32m     24\u001B[0m               metrics\u001B[38;5;241m=\u001B[39m\u001B[38;5;124m'\u001B[39m\u001B[38;5;124macc\u001B[39m\u001B[38;5;124m'\u001B[39m)\n\u001B[0;32m     26\u001B[0m model\u001B[38;5;241m.\u001B[39mfit(x, y, epochs\u001B[38;5;241m=\u001B[39m\u001B[38;5;241m10\u001B[39m, verbose\u001B[38;5;241m=\u001B[39m\u001B[38;5;241m2\u001B[39m)\n",
      "File \u001B[1;32m~\\AppData\\Local\\Programs\\Python\\Python39\\lib\\site-packages\\tensorflow\\python\\training\\tracking\\base.py:522\u001B[0m, in \u001B[0;36mno_automatic_dependency_tracking.<locals>._method_wrapper\u001B[1;34m(self, *args, **kwargs)\u001B[0m\n\u001B[0;32m    520\u001B[0m \u001B[38;5;28mself\u001B[39m\u001B[38;5;241m.\u001B[39m_self_setattr_tracking \u001B[38;5;241m=\u001B[39m \u001B[38;5;28;01mFalse\u001B[39;00m  \u001B[38;5;66;03m# pylint: disable=protected-access\u001B[39;00m\n\u001B[0;32m    521\u001B[0m \u001B[38;5;28;01mtry\u001B[39;00m:\n\u001B[1;32m--> 522\u001B[0m   result \u001B[38;5;241m=\u001B[39m method(\u001B[38;5;28mself\u001B[39m, \u001B[38;5;241m*\u001B[39margs, \u001B[38;5;241m*\u001B[39m\u001B[38;5;241m*\u001B[39mkwargs)\n\u001B[0;32m    523\u001B[0m \u001B[38;5;28;01mfinally\u001B[39;00m:\n\u001B[0;32m    524\u001B[0m   \u001B[38;5;28mself\u001B[39m\u001B[38;5;241m.\u001B[39m_self_setattr_tracking \u001B[38;5;241m=\u001B[39m previous_value  \u001B[38;5;66;03m# pylint: disable=protected-access\u001B[39;00m\n",
      "File \u001B[1;32m~\\AppData\\Local\\Programs\\Python\\Python39\\lib\\site-packages\\tensorflow\\python\\keras\\engine\\sequential.py:141\u001B[0m, in \u001B[0;36mSequential.__init__\u001B[1;34m(self, layers, name)\u001B[0m\n\u001B[0;32m    139\u001B[0m   layers \u001B[38;5;241m=\u001B[39m [layers]\n\u001B[0;32m    140\u001B[0m \u001B[38;5;28;01mfor\u001B[39;00m layer \u001B[38;5;129;01min\u001B[39;00m layers:\n\u001B[1;32m--> 141\u001B[0m   \u001B[38;5;28;43mself\u001B[39;49m\u001B[38;5;241;43m.\u001B[39;49m\u001B[43madd\u001B[49m\u001B[43m(\u001B[49m\u001B[43mlayer\u001B[49m\u001B[43m)\u001B[49m\n",
      "File \u001B[1;32m~\\AppData\\Local\\Programs\\Python\\Python39\\lib\\site-packages\\tensorflow\\python\\training\\tracking\\base.py:522\u001B[0m, in \u001B[0;36mno_automatic_dependency_tracking.<locals>._method_wrapper\u001B[1;34m(self, *args, **kwargs)\u001B[0m\n\u001B[0;32m    520\u001B[0m \u001B[38;5;28mself\u001B[39m\u001B[38;5;241m.\u001B[39m_self_setattr_tracking \u001B[38;5;241m=\u001B[39m \u001B[38;5;28;01mFalse\u001B[39;00m  \u001B[38;5;66;03m# pylint: disable=protected-access\u001B[39;00m\n\u001B[0;32m    521\u001B[0m \u001B[38;5;28;01mtry\u001B[39;00m:\n\u001B[1;32m--> 522\u001B[0m   result \u001B[38;5;241m=\u001B[39m method(\u001B[38;5;28mself\u001B[39m, \u001B[38;5;241m*\u001B[39margs, \u001B[38;5;241m*\u001B[39m\u001B[38;5;241m*\u001B[39mkwargs)\n\u001B[0;32m    523\u001B[0m \u001B[38;5;28;01mfinally\u001B[39;00m:\n\u001B[0;32m    524\u001B[0m   \u001B[38;5;28mself\u001B[39m\u001B[38;5;241m.\u001B[39m_self_setattr_tracking \u001B[38;5;241m=\u001B[39m previous_value  \u001B[38;5;66;03m# pylint: disable=protected-access\u001B[39;00m\n",
      "File \u001B[1;32m~\\AppData\\Local\\Programs\\Python\\Python39\\lib\\site-packages\\tensorflow\\python\\keras\\engine\\sequential.py:228\u001B[0m, in \u001B[0;36mSequential.add\u001B[1;34m(self, layer)\u001B[0m\n\u001B[0;32m    223\u001B[0m     \u001B[38;5;28mself\u001B[39m\u001B[38;5;241m.\u001B[39m_has_explicit_input_shape \u001B[38;5;241m=\u001B[39m \u001B[38;5;28;01mTrue\u001B[39;00m\n\u001B[0;32m    225\u001B[0m \u001B[38;5;28;01melif\u001B[39;00m \u001B[38;5;28mself\u001B[39m\u001B[38;5;241m.\u001B[39moutputs:\n\u001B[0;32m    226\u001B[0m   \u001B[38;5;66;03m# If the model is being built continuously on top of an input layer:\u001B[39;00m\n\u001B[0;32m    227\u001B[0m   \u001B[38;5;66;03m# refresh its output.\u001B[39;00m\n\u001B[1;32m--> 228\u001B[0m   output_tensor \u001B[38;5;241m=\u001B[39m \u001B[43mlayer\u001B[49m\u001B[43m(\u001B[49m\u001B[38;5;28;43mself\u001B[39;49m\u001B[38;5;241;43m.\u001B[39;49m\u001B[43moutputs\u001B[49m\u001B[43m[\u001B[49m\u001B[38;5;241;43m0\u001B[39;49m\u001B[43m]\u001B[49m\u001B[43m)\u001B[49m\n\u001B[0;32m    229\u001B[0m   \u001B[38;5;28;01mif\u001B[39;00m \u001B[38;5;28mlen\u001B[39m(nest\u001B[38;5;241m.\u001B[39mflatten(output_tensor)) \u001B[38;5;241m!=\u001B[39m \u001B[38;5;241m1\u001B[39m:\n\u001B[0;32m    230\u001B[0m     \u001B[38;5;28;01mraise\u001B[39;00m \u001B[38;5;167;01mValueError\u001B[39;00m(SINGLE_LAYER_OUTPUT_ERROR_MSG)\n",
      "File \u001B[1;32m~\\AppData\\Local\\Programs\\Python\\Python39\\lib\\site-packages\\tensorflow\\python\\keras\\layers\\recurrent.py:668\u001B[0m, in \u001B[0;36mRNN.__call__\u001B[1;34m(self, inputs, initial_state, constants, **kwargs)\u001B[0m\n\u001B[0;32m    662\u001B[0m inputs, initial_state, constants \u001B[38;5;241m=\u001B[39m _standardize_args(inputs,\n\u001B[0;32m    663\u001B[0m                                                      initial_state,\n\u001B[0;32m    664\u001B[0m                                                      constants,\n\u001B[0;32m    665\u001B[0m                                                      \u001B[38;5;28mself\u001B[39m\u001B[38;5;241m.\u001B[39m_num_constants)\n\u001B[0;32m    667\u001B[0m \u001B[38;5;28;01mif\u001B[39;00m initial_state \u001B[38;5;129;01mis\u001B[39;00m \u001B[38;5;28;01mNone\u001B[39;00m \u001B[38;5;129;01mand\u001B[39;00m constants \u001B[38;5;129;01mis\u001B[39;00m \u001B[38;5;28;01mNone\u001B[39;00m:\n\u001B[1;32m--> 668\u001B[0m   \u001B[38;5;28;01mreturn\u001B[39;00m \u001B[38;5;28msuper\u001B[39m(RNN, \u001B[38;5;28mself\u001B[39m)\u001B[38;5;241m.\u001B[39m\u001B[38;5;21m__call__\u001B[39m(inputs, \u001B[38;5;241m*\u001B[39m\u001B[38;5;241m*\u001B[39mkwargs)\n\u001B[0;32m    670\u001B[0m \u001B[38;5;66;03m# If any of `initial_state` or `constants` are specified and are Keras\u001B[39;00m\n\u001B[0;32m    671\u001B[0m \u001B[38;5;66;03m# tensors, then add them to the inputs and temporarily modify the\u001B[39;00m\n\u001B[0;32m    672\u001B[0m \u001B[38;5;66;03m# input_spec to include them.\u001B[39;00m\n\u001B[0;32m    674\u001B[0m additional_inputs \u001B[38;5;241m=\u001B[39m []\n",
      "File \u001B[1;32m~\\AppData\\Local\\Programs\\Python\\Python39\\lib\\site-packages\\tensorflow\\python\\keras\\engine\\base_layer.py:969\u001B[0m, in \u001B[0;36mLayer.__call__\u001B[1;34m(self, *args, **kwargs)\u001B[0m\n\u001B[0;32m    963\u001B[0m \u001B[38;5;66;03m# Functional Model construction mode is invoked when `Layer`s are called on\u001B[39;00m\n\u001B[0;32m    964\u001B[0m \u001B[38;5;66;03m# symbolic `KerasTensor`s, i.e.:\u001B[39;00m\n\u001B[0;32m    965\u001B[0m \u001B[38;5;66;03m# >> inputs = tf.keras.Input(10)\u001B[39;00m\n\u001B[0;32m    966\u001B[0m \u001B[38;5;66;03m# >> outputs = MyLayer()(inputs)  # Functional construction mode.\u001B[39;00m\n\u001B[0;32m    967\u001B[0m \u001B[38;5;66;03m# >> model = tf.keras.Model(inputs, outputs)\u001B[39;00m\n\u001B[0;32m    968\u001B[0m \u001B[38;5;28;01mif\u001B[39;00m _in_functional_construction_mode(\u001B[38;5;28mself\u001B[39m, inputs, args, kwargs, input_list):\n\u001B[1;32m--> 969\u001B[0m   \u001B[38;5;28;01mreturn\u001B[39;00m \u001B[38;5;28;43mself\u001B[39;49m\u001B[38;5;241;43m.\u001B[39;49m\u001B[43m_functional_construction_call\u001B[49m\u001B[43m(\u001B[49m\u001B[43minputs\u001B[49m\u001B[43m,\u001B[49m\u001B[43m \u001B[49m\u001B[43margs\u001B[49m\u001B[43m,\u001B[49m\u001B[43m \u001B[49m\u001B[43mkwargs\u001B[49m\u001B[43m,\u001B[49m\n\u001B[0;32m    970\u001B[0m \u001B[43m                                            \u001B[49m\u001B[43minput_list\u001B[49m\u001B[43m)\u001B[49m\n\u001B[0;32m    972\u001B[0m \u001B[38;5;66;03m# Maintains info about the `Layer.call` stack.\u001B[39;00m\n\u001B[0;32m    973\u001B[0m call_context \u001B[38;5;241m=\u001B[39m base_layer_utils\u001B[38;5;241m.\u001B[39mcall_context()\n",
      "File \u001B[1;32m~\\AppData\\Local\\Programs\\Python\\Python39\\lib\\site-packages\\tensorflow\\python\\keras\\engine\\base_layer.py:1107\u001B[0m, in \u001B[0;36mLayer._functional_construction_call\u001B[1;34m(self, inputs, args, kwargs, input_list)\u001B[0m\n\u001B[0;32m   1102\u001B[0m     training_arg_passed_by_framework \u001B[38;5;241m=\u001B[39m \u001B[38;5;28;01mTrue\u001B[39;00m\n\u001B[0;32m   1104\u001B[0m \u001B[38;5;28;01mwith\u001B[39;00m call_context\u001B[38;5;241m.\u001B[39menter(\n\u001B[0;32m   1105\u001B[0m     layer\u001B[38;5;241m=\u001B[39m\u001B[38;5;28mself\u001B[39m, inputs\u001B[38;5;241m=\u001B[39minputs, build_graph\u001B[38;5;241m=\u001B[39m\u001B[38;5;28;01mTrue\u001B[39;00m, training\u001B[38;5;241m=\u001B[39mtraining_value):\n\u001B[0;32m   1106\u001B[0m   \u001B[38;5;66;03m# Check input assumptions set after layer building, e.g. input shape.\u001B[39;00m\n\u001B[1;32m-> 1107\u001B[0m   outputs \u001B[38;5;241m=\u001B[39m \u001B[38;5;28;43mself\u001B[39;49m\u001B[38;5;241;43m.\u001B[39;49m\u001B[43m_keras_tensor_symbolic_call\u001B[49m\u001B[43m(\u001B[49m\n\u001B[0;32m   1108\u001B[0m \u001B[43m      \u001B[49m\u001B[43minputs\u001B[49m\u001B[43m,\u001B[49m\u001B[43m \u001B[49m\u001B[43minput_masks\u001B[49m\u001B[43m,\u001B[49m\u001B[43m \u001B[49m\u001B[43margs\u001B[49m\u001B[43m,\u001B[49m\u001B[43m \u001B[49m\u001B[43mkwargs\u001B[49m\u001B[43m)\u001B[49m\n\u001B[0;32m   1110\u001B[0m   \u001B[38;5;28;01mif\u001B[39;00m outputs \u001B[38;5;129;01mis\u001B[39;00m \u001B[38;5;28;01mNone\u001B[39;00m:\n\u001B[0;32m   1111\u001B[0m     \u001B[38;5;28;01mraise\u001B[39;00m \u001B[38;5;167;01mValueError\u001B[39;00m(\u001B[38;5;124m'\u001B[39m\u001B[38;5;124mA layer\u001B[39m\u001B[38;5;130;01m\\'\u001B[39;00m\u001B[38;5;124ms `call` method should return a \u001B[39m\u001B[38;5;124m'\u001B[39m\n\u001B[0;32m   1112\u001B[0m                      \u001B[38;5;124m'\u001B[39m\u001B[38;5;124mTensor or a list of Tensors, not None \u001B[39m\u001B[38;5;124m'\u001B[39m\n\u001B[0;32m   1113\u001B[0m                      \u001B[38;5;124m'\u001B[39m\u001B[38;5;124m(layer: \u001B[39m\u001B[38;5;124m'\u001B[39m \u001B[38;5;241m+\u001B[39m \u001B[38;5;28mself\u001B[39m\u001B[38;5;241m.\u001B[39mname \u001B[38;5;241m+\u001B[39m \u001B[38;5;124m'\u001B[39m\u001B[38;5;124m).\u001B[39m\u001B[38;5;124m'\u001B[39m)\n",
      "File \u001B[1;32m~\\AppData\\Local\\Programs\\Python\\Python39\\lib\\site-packages\\tensorflow\\python\\keras\\engine\\base_layer.py:840\u001B[0m, in \u001B[0;36mLayer._keras_tensor_symbolic_call\u001B[1;34m(self, inputs, input_masks, args, kwargs)\u001B[0m\n\u001B[0;32m    838\u001B[0m   \u001B[38;5;28;01mreturn\u001B[39;00m nest\u001B[38;5;241m.\u001B[39mmap_structure(keras_tensor\u001B[38;5;241m.\u001B[39mKerasTensor, output_signature)\n\u001B[0;32m    839\u001B[0m \u001B[38;5;28;01melse\u001B[39;00m:\n\u001B[1;32m--> 840\u001B[0m   \u001B[38;5;28;01mreturn\u001B[39;00m \u001B[38;5;28;43mself\u001B[39;49m\u001B[38;5;241;43m.\u001B[39;49m\u001B[43m_infer_output_signature\u001B[49m\u001B[43m(\u001B[49m\u001B[43minputs\u001B[49m\u001B[43m,\u001B[49m\u001B[43m \u001B[49m\u001B[43margs\u001B[49m\u001B[43m,\u001B[49m\u001B[43m \u001B[49m\u001B[43mkwargs\u001B[49m\u001B[43m,\u001B[49m\u001B[43m \u001B[49m\u001B[43minput_masks\u001B[49m\u001B[43m)\u001B[49m\n",
      "File \u001B[1;32m~\\AppData\\Local\\Programs\\Python\\Python39\\lib\\site-packages\\tensorflow\\python\\keras\\engine\\base_layer.py:880\u001B[0m, in \u001B[0;36mLayer._infer_output_signature\u001B[1;34m(self, inputs, args, kwargs, input_masks)\u001B[0m\n\u001B[0;32m    878\u001B[0m     \u001B[38;5;28mself\u001B[39m\u001B[38;5;241m.\u001B[39m_maybe_build(inputs)\n\u001B[0;32m    879\u001B[0m     inputs \u001B[38;5;241m=\u001B[39m \u001B[38;5;28mself\u001B[39m\u001B[38;5;241m.\u001B[39m_maybe_cast_inputs(inputs)\n\u001B[1;32m--> 880\u001B[0m     outputs \u001B[38;5;241m=\u001B[39m call_fn(inputs, \u001B[38;5;241m*\u001B[39margs, \u001B[38;5;241m*\u001B[39m\u001B[38;5;241m*\u001B[39mkwargs)\n\u001B[0;32m    882\u001B[0m   \u001B[38;5;28mself\u001B[39m\u001B[38;5;241m.\u001B[39m_handle_activity_regularization(inputs, outputs)\n\u001B[0;32m    883\u001B[0m \u001B[38;5;28mself\u001B[39m\u001B[38;5;241m.\u001B[39m_set_mask_metadata(inputs, outputs, input_masks,\n\u001B[0;32m    884\u001B[0m                         build_graph\u001B[38;5;241m=\u001B[39m\u001B[38;5;28;01mFalse\u001B[39;00m)\n",
      "File \u001B[1;32m~\\AppData\\Local\\Programs\\Python\\Python39\\lib\\site-packages\\tensorflow\\python\\keras\\layers\\recurrent.py:1584\u001B[0m, in \u001B[0;36mSimpleRNN.call\u001B[1;34m(self, inputs, mask, training, initial_state)\u001B[0m\n\u001B[0;32m   1583\u001B[0m \u001B[38;5;28;01mdef\u001B[39;00m \u001B[38;5;21mcall\u001B[39m(\u001B[38;5;28mself\u001B[39m, inputs, mask\u001B[38;5;241m=\u001B[39m\u001B[38;5;28;01mNone\u001B[39;00m, training\u001B[38;5;241m=\u001B[39m\u001B[38;5;28;01mNone\u001B[39;00m, initial_state\u001B[38;5;241m=\u001B[39m\u001B[38;5;28;01mNone\u001B[39;00m):\n\u001B[1;32m-> 1584\u001B[0m   \u001B[38;5;28;01mreturn\u001B[39;00m \u001B[38;5;28;43msuper\u001B[39;49m\u001B[43m(\u001B[49m\u001B[43mSimpleRNN\u001B[49m\u001B[43m,\u001B[49m\u001B[43m \u001B[49m\u001B[38;5;28;43mself\u001B[39;49m\u001B[43m)\u001B[49m\u001B[38;5;241;43m.\u001B[39;49m\u001B[43mcall\u001B[49m\u001B[43m(\u001B[49m\n\u001B[0;32m   1585\u001B[0m \u001B[43m      \u001B[49m\u001B[43minputs\u001B[49m\u001B[43m,\u001B[49m\u001B[43m \u001B[49m\u001B[43mmask\u001B[49m\u001B[38;5;241;43m=\u001B[39;49m\u001B[43mmask\u001B[49m\u001B[43m,\u001B[49m\u001B[43m \u001B[49m\u001B[43mtraining\u001B[49m\u001B[38;5;241;43m=\u001B[39;49m\u001B[43mtraining\u001B[49m\u001B[43m,\u001B[49m\u001B[43m \u001B[49m\u001B[43minitial_state\u001B[49m\u001B[38;5;241;43m=\u001B[39;49m\u001B[43minitial_state\u001B[49m\u001B[43m)\u001B[49m\n",
      "File \u001B[1;32m~\\AppData\\Local\\Programs\\Python\\Python39\\lib\\site-packages\\tensorflow\\python\\keras\\layers\\recurrent.py:739\u001B[0m, in \u001B[0;36mRNN.call\u001B[1;34m(self, inputs, mask, training, initial_state, constants)\u001B[0m\n\u001B[0;32m    736\u001B[0m is_ragged_input \u001B[38;5;241m=\u001B[39m (row_lengths \u001B[38;5;129;01mis\u001B[39;00m \u001B[38;5;129;01mnot\u001B[39;00m \u001B[38;5;28;01mNone\u001B[39;00m)\n\u001B[0;32m    737\u001B[0m \u001B[38;5;28mself\u001B[39m\u001B[38;5;241m.\u001B[39m_validate_args_if_ragged(is_ragged_input, mask)\n\u001B[1;32m--> 739\u001B[0m inputs, initial_state, constants \u001B[38;5;241m=\u001B[39m \u001B[38;5;28;43mself\u001B[39;49m\u001B[38;5;241;43m.\u001B[39;49m\u001B[43m_process_inputs\u001B[49m\u001B[43m(\u001B[49m\n\u001B[0;32m    740\u001B[0m \u001B[43m    \u001B[49m\u001B[43minputs\u001B[49m\u001B[43m,\u001B[49m\u001B[43m \u001B[49m\u001B[43minitial_state\u001B[49m\u001B[43m,\u001B[49m\u001B[43m \u001B[49m\u001B[43mconstants\u001B[49m\u001B[43m)\u001B[49m\n\u001B[0;32m    742\u001B[0m \u001B[38;5;28mself\u001B[39m\u001B[38;5;241m.\u001B[39m_maybe_reset_cell_dropout_mask(\u001B[38;5;28mself\u001B[39m\u001B[38;5;241m.\u001B[39mcell)\n\u001B[0;32m    743\u001B[0m \u001B[38;5;28;01mif\u001B[39;00m \u001B[38;5;28misinstance\u001B[39m(\u001B[38;5;28mself\u001B[39m\u001B[38;5;241m.\u001B[39mcell, StackedRNNCells):\n",
      "File \u001B[1;32m~\\AppData\\Local\\Programs\\Python\\Python39\\lib\\site-packages\\tensorflow\\python\\keras\\layers\\recurrent.py:868\u001B[0m, in \u001B[0;36mRNN._process_inputs\u001B[1;34m(self, inputs, initial_state, constants)\u001B[0m\n\u001B[0;32m    866\u001B[0m     initial_state \u001B[38;5;241m=\u001B[39m \u001B[38;5;28mself\u001B[39m\u001B[38;5;241m.\u001B[39mstates\n\u001B[0;32m    867\u001B[0m \u001B[38;5;28;01melif\u001B[39;00m initial_state \u001B[38;5;129;01mis\u001B[39;00m \u001B[38;5;28;01mNone\u001B[39;00m:\n\u001B[1;32m--> 868\u001B[0m   initial_state \u001B[38;5;241m=\u001B[39m \u001B[38;5;28;43mself\u001B[39;49m\u001B[38;5;241;43m.\u001B[39;49m\u001B[43mget_initial_state\u001B[49m\u001B[43m(\u001B[49m\u001B[43minputs\u001B[49m\u001B[43m)\u001B[49m\n\u001B[0;32m    870\u001B[0m \u001B[38;5;28;01mif\u001B[39;00m \u001B[38;5;28mlen\u001B[39m(initial_state) \u001B[38;5;241m!=\u001B[39m \u001B[38;5;28mlen\u001B[39m(\u001B[38;5;28mself\u001B[39m\u001B[38;5;241m.\u001B[39mstates):\n\u001B[0;32m    871\u001B[0m   \u001B[38;5;28;01mraise\u001B[39;00m \u001B[38;5;167;01mValueError\u001B[39;00m(\u001B[38;5;124m'\u001B[39m\u001B[38;5;124mLayer has \u001B[39m\u001B[38;5;124m'\u001B[39m \u001B[38;5;241m+\u001B[39m \u001B[38;5;28mstr\u001B[39m(\u001B[38;5;28mlen\u001B[39m(\u001B[38;5;28mself\u001B[39m\u001B[38;5;241m.\u001B[39mstates)) \u001B[38;5;241m+\u001B[39m\n\u001B[0;32m    872\u001B[0m                    \u001B[38;5;124m'\u001B[39m\u001B[38;5;124m states but was passed \u001B[39m\u001B[38;5;124m'\u001B[39m \u001B[38;5;241m+\u001B[39m \u001B[38;5;28mstr\u001B[39m(\u001B[38;5;28mlen\u001B[39m(initial_state)) \u001B[38;5;241m+\u001B[39m\n\u001B[0;32m    873\u001B[0m                    \u001B[38;5;124m'\u001B[39m\u001B[38;5;124m initial states.\u001B[39m\u001B[38;5;124m'\u001B[39m)\n",
      "File \u001B[1;32m~\\AppData\\Local\\Programs\\Python\\Python39\\lib\\site-packages\\tensorflow\\python\\keras\\layers\\recurrent.py:650\u001B[0m, in \u001B[0;36mRNN.get_initial_state\u001B[1;34m(self, inputs)\u001B[0m\n\u001B[0;32m    648\u001B[0m dtype \u001B[38;5;241m=\u001B[39m inputs\u001B[38;5;241m.\u001B[39mdtype\n\u001B[0;32m    649\u001B[0m \u001B[38;5;28;01mif\u001B[39;00m get_initial_state_fn:\n\u001B[1;32m--> 650\u001B[0m   init_state \u001B[38;5;241m=\u001B[39m \u001B[43mget_initial_state_fn\u001B[49m\u001B[43m(\u001B[49m\n\u001B[0;32m    651\u001B[0m \u001B[43m      \u001B[49m\u001B[43minputs\u001B[49m\u001B[38;5;241;43m=\u001B[39;49m\u001B[38;5;28;43;01mNone\u001B[39;49;00m\u001B[43m,\u001B[49m\u001B[43m \u001B[49m\u001B[43mbatch_size\u001B[49m\u001B[38;5;241;43m=\u001B[39;49m\u001B[43mbatch_size\u001B[49m\u001B[43m,\u001B[49m\u001B[43m \u001B[49m\u001B[43mdtype\u001B[49m\u001B[38;5;241;43m=\u001B[39;49m\u001B[43mdtype\u001B[49m\u001B[43m)\u001B[49m\n\u001B[0;32m    652\u001B[0m \u001B[38;5;28;01melse\u001B[39;00m:\n\u001B[0;32m    653\u001B[0m   init_state \u001B[38;5;241m=\u001B[39m _generate_zero_filled_state(batch_size, \u001B[38;5;28mself\u001B[39m\u001B[38;5;241m.\u001B[39mcell\u001B[38;5;241m.\u001B[39mstate_size,\n\u001B[0;32m    654\u001B[0m                                            dtype)\n",
      "File \u001B[1;32m~\\AppData\\Local\\Programs\\Python\\Python39\\lib\\site-packages\\tensorflow\\python\\keras\\layers\\recurrent.py:1396\u001B[0m, in \u001B[0;36mSimpleRNNCell.get_initial_state\u001B[1;34m(self, inputs, batch_size, dtype)\u001B[0m\n\u001B[0;32m   1395\u001B[0m \u001B[38;5;28;01mdef\u001B[39;00m \u001B[38;5;21mget_initial_state\u001B[39m(\u001B[38;5;28mself\u001B[39m, inputs\u001B[38;5;241m=\u001B[39m\u001B[38;5;28;01mNone\u001B[39;00m, batch_size\u001B[38;5;241m=\u001B[39m\u001B[38;5;28;01mNone\u001B[39;00m, dtype\u001B[38;5;241m=\u001B[39m\u001B[38;5;28;01mNone\u001B[39;00m):\n\u001B[1;32m-> 1396\u001B[0m   \u001B[38;5;28;01mreturn\u001B[39;00m \u001B[43m_generate_zero_filled_state_for_cell\u001B[49m\u001B[43m(\u001B[49m\u001B[38;5;28;43mself\u001B[39;49m\u001B[43m,\u001B[49m\u001B[43m \u001B[49m\u001B[43minputs\u001B[49m\u001B[43m,\u001B[49m\u001B[43m \u001B[49m\u001B[43mbatch_size\u001B[49m\u001B[43m,\u001B[49m\u001B[43m \u001B[49m\u001B[43mdtype\u001B[49m\u001B[43m)\u001B[49m\n",
      "File \u001B[1;32m~\\AppData\\Local\\Programs\\Python\\Python39\\lib\\site-packages\\tensorflow\\python\\keras\\layers\\recurrent.py:2998\u001B[0m, in \u001B[0;36m_generate_zero_filled_state_for_cell\u001B[1;34m(cell, inputs, batch_size, dtype)\u001B[0m\n\u001B[0;32m   2996\u001B[0m   batch_size \u001B[38;5;241m=\u001B[39m array_ops\u001B[38;5;241m.\u001B[39mshape(inputs)[\u001B[38;5;241m0\u001B[39m]\n\u001B[0;32m   2997\u001B[0m   dtype \u001B[38;5;241m=\u001B[39m inputs\u001B[38;5;241m.\u001B[39mdtype\n\u001B[1;32m-> 2998\u001B[0m \u001B[38;5;28;01mreturn\u001B[39;00m \u001B[43m_generate_zero_filled_state\u001B[49m\u001B[43m(\u001B[49m\u001B[43mbatch_size\u001B[49m\u001B[43m,\u001B[49m\u001B[43m \u001B[49m\u001B[43mcell\u001B[49m\u001B[38;5;241;43m.\u001B[39;49m\u001B[43mstate_size\u001B[49m\u001B[43m,\u001B[49m\u001B[43m \u001B[49m\u001B[43mdtype\u001B[49m\u001B[43m)\u001B[49m\n",
      "File \u001B[1;32m~\\AppData\\Local\\Programs\\Python\\Python39\\lib\\site-packages\\tensorflow\\python\\keras\\layers\\recurrent.py:3016\u001B[0m, in \u001B[0;36m_generate_zero_filled_state\u001B[1;34m(batch_size_tensor, state_size, dtype)\u001B[0m\n\u001B[0;32m   3014\u001B[0m   \u001B[38;5;28;01mreturn\u001B[39;00m nest\u001B[38;5;241m.\u001B[39mmap_structure(create_zeros, state_size)\n\u001B[0;32m   3015\u001B[0m \u001B[38;5;28;01melse\u001B[39;00m:\n\u001B[1;32m-> 3016\u001B[0m   \u001B[38;5;28;01mreturn\u001B[39;00m \u001B[43mcreate_zeros\u001B[49m\u001B[43m(\u001B[49m\u001B[43mstate_size\u001B[49m\u001B[43m)\u001B[49m\n",
      "File \u001B[1;32m~\\AppData\\Local\\Programs\\Python\\Python39\\lib\\site-packages\\tensorflow\\python\\keras\\layers\\recurrent.py:3011\u001B[0m, in \u001B[0;36m_generate_zero_filled_state.<locals>.create_zeros\u001B[1;34m(unnested_state_size)\u001B[0m\n\u001B[0;32m   3009\u001B[0m flat_dims \u001B[38;5;241m=\u001B[39m tensor_shape\u001B[38;5;241m.\u001B[39mTensorShape(unnested_state_size)\u001B[38;5;241m.\u001B[39mas_list()\n\u001B[0;32m   3010\u001B[0m init_state_size \u001B[38;5;241m=\u001B[39m [batch_size_tensor] \u001B[38;5;241m+\u001B[39m flat_dims\n\u001B[1;32m-> 3011\u001B[0m \u001B[38;5;28;01mreturn\u001B[39;00m \u001B[43marray_ops\u001B[49m\u001B[38;5;241;43m.\u001B[39;49m\u001B[43mzeros\u001B[49m\u001B[43m(\u001B[49m\u001B[43minit_state_size\u001B[49m\u001B[43m,\u001B[49m\u001B[43m \u001B[49m\u001B[43mdtype\u001B[49m\u001B[38;5;241;43m=\u001B[39;49m\u001B[43mdtype\u001B[49m\u001B[43m)\u001B[49m\n",
      "File \u001B[1;32m~\\AppData\\Local\\Programs\\Python\\Python39\\lib\\site-packages\\tensorflow\\python\\util\\dispatch.py:206\u001B[0m, in \u001B[0;36madd_dispatch_support.<locals>.wrapper\u001B[1;34m(*args, **kwargs)\u001B[0m\n\u001B[0;32m    204\u001B[0m \u001B[38;5;250m\u001B[39m\u001B[38;5;124;03m\"\"\"Call target, and fall back on dispatchers if there is a TypeError.\"\"\"\u001B[39;00m\n\u001B[0;32m    205\u001B[0m \u001B[38;5;28;01mtry\u001B[39;00m:\n\u001B[1;32m--> 206\u001B[0m   \u001B[38;5;28;01mreturn\u001B[39;00m target(\u001B[38;5;241m*\u001B[39margs, \u001B[38;5;241m*\u001B[39m\u001B[38;5;241m*\u001B[39mkwargs)\n\u001B[0;32m    207\u001B[0m \u001B[38;5;28;01mexcept\u001B[39;00m (\u001B[38;5;167;01mTypeError\u001B[39;00m, \u001B[38;5;167;01mValueError\u001B[39;00m):\n\u001B[0;32m    208\u001B[0m   \u001B[38;5;66;03m# Note: convert_to_eager_tensor currently raises a ValueError, not a\u001B[39;00m\n\u001B[0;32m    209\u001B[0m   \u001B[38;5;66;03m# TypeError, when given unexpected types.  So we need to catch both.\u001B[39;00m\n\u001B[0;32m    210\u001B[0m   result \u001B[38;5;241m=\u001B[39m dispatch(wrapper, args, kwargs)\n",
      "File \u001B[1;32m~\\AppData\\Local\\Programs\\Python\\Python39\\lib\\site-packages\\tensorflow\\python\\ops\\array_ops.py:2911\u001B[0m, in \u001B[0;36m_tag_zeros_tensor.<locals>.wrapped\u001B[1;34m(*args, **kwargs)\u001B[0m\n\u001B[0;32m   2910\u001B[0m \u001B[38;5;28;01mdef\u001B[39;00m \u001B[38;5;21mwrapped\u001B[39m(\u001B[38;5;241m*\u001B[39margs, \u001B[38;5;241m*\u001B[39m\u001B[38;5;241m*\u001B[39mkwargs):\n\u001B[1;32m-> 2911\u001B[0m   tensor \u001B[38;5;241m=\u001B[39m fun(\u001B[38;5;241m*\u001B[39margs, \u001B[38;5;241m*\u001B[39m\u001B[38;5;241m*\u001B[39mkwargs)\n\u001B[0;32m   2912\u001B[0m   tensor\u001B[38;5;241m.\u001B[39m_is_zeros_tensor \u001B[38;5;241m=\u001B[39m \u001B[38;5;28;01mTrue\u001B[39;00m\n\u001B[0;32m   2913\u001B[0m   \u001B[38;5;28;01mreturn\u001B[39;00m tensor\n",
      "File \u001B[1;32m~\\AppData\\Local\\Programs\\Python\\Python39\\lib\\site-packages\\tensorflow\\python\\ops\\array_ops.py:2960\u001B[0m, in \u001B[0;36mzeros\u001B[1;34m(shape, dtype, name)\u001B[0m\n\u001B[0;32m   2956\u001B[0m \u001B[38;5;28;01mtry\u001B[39;00m:\n\u001B[0;32m   2957\u001B[0m   \u001B[38;5;28;01mif\u001B[39;00m \u001B[38;5;129;01mnot\u001B[39;00m context\u001B[38;5;241m.\u001B[39mexecuting_eagerly():\n\u001B[0;32m   2958\u001B[0m     \u001B[38;5;66;03m# Create a constant if it won't be very big. Otherwise create a fill\u001B[39;00m\n\u001B[0;32m   2959\u001B[0m     \u001B[38;5;66;03m# op to prevent serialized GraphDefs from becoming too large.\u001B[39;00m\n\u001B[1;32m-> 2960\u001B[0m     output \u001B[38;5;241m=\u001B[39m \u001B[43m_constant_if_small\u001B[49m\u001B[43m(\u001B[49m\u001B[43mzero\u001B[49m\u001B[43m,\u001B[49m\u001B[43m \u001B[49m\u001B[43mshape\u001B[49m\u001B[43m,\u001B[49m\u001B[43m \u001B[49m\u001B[43mdtype\u001B[49m\u001B[43m,\u001B[49m\u001B[43m \u001B[49m\u001B[43mname\u001B[49m\u001B[43m)\u001B[49m\n\u001B[0;32m   2961\u001B[0m     \u001B[38;5;28;01mif\u001B[39;00m output \u001B[38;5;129;01mis\u001B[39;00m \u001B[38;5;129;01mnot\u001B[39;00m \u001B[38;5;28;01mNone\u001B[39;00m:\n\u001B[0;32m   2962\u001B[0m       \u001B[38;5;28;01mreturn\u001B[39;00m output\n",
      "File \u001B[1;32m~\\AppData\\Local\\Programs\\Python\\Python39\\lib\\site-packages\\tensorflow\\python\\ops\\array_ops.py:2896\u001B[0m, in \u001B[0;36m_constant_if_small\u001B[1;34m(value, shape, dtype, name)\u001B[0m\n\u001B[0;32m   2894\u001B[0m \u001B[38;5;28;01mdef\u001B[39;00m \u001B[38;5;21m_constant_if_small\u001B[39m(value, shape, dtype, name):\n\u001B[0;32m   2895\u001B[0m   \u001B[38;5;28;01mtry\u001B[39;00m:\n\u001B[1;32m-> 2896\u001B[0m     \u001B[38;5;28;01mif\u001B[39;00m \u001B[43mnp\u001B[49m\u001B[38;5;241;43m.\u001B[39;49m\u001B[43mprod\u001B[49m\u001B[43m(\u001B[49m\u001B[43mshape\u001B[49m\u001B[43m)\u001B[49m \u001B[38;5;241m<\u001B[39m \u001B[38;5;241m1000\u001B[39m:\n\u001B[0;32m   2897\u001B[0m       \u001B[38;5;28;01mreturn\u001B[39;00m constant(value, shape\u001B[38;5;241m=\u001B[39mshape, dtype\u001B[38;5;241m=\u001B[39mdtype, name\u001B[38;5;241m=\u001B[39mname)\n\u001B[0;32m   2898\u001B[0m   \u001B[38;5;28;01mexcept\u001B[39;00m \u001B[38;5;167;01mTypeError\u001B[39;00m:\n\u001B[0;32m   2899\u001B[0m     \u001B[38;5;66;03m# Happens when shape is a Tensor, list with Tensor elements, etc.\u001B[39;00m\n",
      "File \u001B[1;32m<__array_function__ internals>:180\u001B[0m, in \u001B[0;36mprod\u001B[1;34m(*args, **kwargs)\u001B[0m\n",
      "File \u001B[1;32m~\\AppData\\Local\\Programs\\Python\\Python39\\lib\\site-packages\\numpy\\core\\fromnumeric.py:3088\u001B[0m, in \u001B[0;36mprod\u001B[1;34m(a, axis, dtype, out, keepdims, initial, where)\u001B[0m\n\u001B[0;32m   2970\u001B[0m \u001B[38;5;129m@array_function_dispatch\u001B[39m(_prod_dispatcher)\n\u001B[0;32m   2971\u001B[0m \u001B[38;5;28;01mdef\u001B[39;00m \u001B[38;5;21mprod\u001B[39m(a, axis\u001B[38;5;241m=\u001B[39m\u001B[38;5;28;01mNone\u001B[39;00m, dtype\u001B[38;5;241m=\u001B[39m\u001B[38;5;28;01mNone\u001B[39;00m, out\u001B[38;5;241m=\u001B[39m\u001B[38;5;28;01mNone\u001B[39;00m, keepdims\u001B[38;5;241m=\u001B[39mnp\u001B[38;5;241m.\u001B[39m_NoValue,\n\u001B[0;32m   2972\u001B[0m          initial\u001B[38;5;241m=\u001B[39mnp\u001B[38;5;241m.\u001B[39m_NoValue, where\u001B[38;5;241m=\u001B[39mnp\u001B[38;5;241m.\u001B[39m_NoValue):\n\u001B[0;32m   2973\u001B[0m \u001B[38;5;250m    \u001B[39m\u001B[38;5;124;03m\"\"\"\u001B[39;00m\n\u001B[0;32m   2974\u001B[0m \u001B[38;5;124;03m    Return the product of array elements over a given axis.\u001B[39;00m\n\u001B[0;32m   2975\u001B[0m \n\u001B[1;32m   (...)\u001B[0m\n\u001B[0;32m   3086\u001B[0m \u001B[38;5;124;03m    10\u001B[39;00m\n\u001B[0;32m   3087\u001B[0m \u001B[38;5;124;03m    \"\"\"\u001B[39;00m\n\u001B[1;32m-> 3088\u001B[0m     \u001B[38;5;28;01mreturn\u001B[39;00m \u001B[43m_wrapreduction\u001B[49m\u001B[43m(\u001B[49m\u001B[43ma\u001B[49m\u001B[43m,\u001B[49m\u001B[43m \u001B[49m\u001B[43mnp\u001B[49m\u001B[38;5;241;43m.\u001B[39;49m\u001B[43mmultiply\u001B[49m\u001B[43m,\u001B[49m\u001B[43m \u001B[49m\u001B[38;5;124;43m'\u001B[39;49m\u001B[38;5;124;43mprod\u001B[39;49m\u001B[38;5;124;43m'\u001B[39;49m\u001B[43m,\u001B[49m\u001B[43m \u001B[49m\u001B[43maxis\u001B[49m\u001B[43m,\u001B[49m\u001B[43m \u001B[49m\u001B[43mdtype\u001B[49m\u001B[43m,\u001B[49m\u001B[43m \u001B[49m\u001B[43mout\u001B[49m\u001B[43m,\u001B[49m\n\u001B[0;32m   3089\u001B[0m \u001B[43m                          \u001B[49m\u001B[43mkeepdims\u001B[49m\u001B[38;5;241;43m=\u001B[39;49m\u001B[43mkeepdims\u001B[49m\u001B[43m,\u001B[49m\u001B[43m \u001B[49m\u001B[43minitial\u001B[49m\u001B[38;5;241;43m=\u001B[39;49m\u001B[43minitial\u001B[49m\u001B[43m,\u001B[49m\u001B[43m \u001B[49m\u001B[43mwhere\u001B[49m\u001B[38;5;241;43m=\u001B[39;49m\u001B[43mwhere\u001B[49m\u001B[43m)\u001B[49m\n",
      "File \u001B[1;32m~\\AppData\\Local\\Programs\\Python\\Python39\\lib\\site-packages\\numpy\\core\\fromnumeric.py:86\u001B[0m, in \u001B[0;36m_wrapreduction\u001B[1;34m(obj, ufunc, method, axis, dtype, out, **kwargs)\u001B[0m\n\u001B[0;32m     83\u001B[0m         \u001B[38;5;28;01melse\u001B[39;00m:\n\u001B[0;32m     84\u001B[0m             \u001B[38;5;28;01mreturn\u001B[39;00m reduction(axis\u001B[38;5;241m=\u001B[39maxis, out\u001B[38;5;241m=\u001B[39mout, \u001B[38;5;241m*\u001B[39m\u001B[38;5;241m*\u001B[39mpasskwargs)\n\u001B[1;32m---> 86\u001B[0m \u001B[38;5;28;01mreturn\u001B[39;00m ufunc\u001B[38;5;241m.\u001B[39mreduce(obj, axis, dtype, out, \u001B[38;5;241m*\u001B[39m\u001B[38;5;241m*\u001B[39mpasskwargs)\n",
      "File \u001B[1;32m~\\AppData\\Local\\Programs\\Python\\Python39\\lib\\site-packages\\tensorflow\\python\\framework\\ops.py:867\u001B[0m, in \u001B[0;36mTensor.__array__\u001B[1;34m(self)\u001B[0m\n\u001B[0;32m    866\u001B[0m \u001B[38;5;28;01mdef\u001B[39;00m \u001B[38;5;21m__array__\u001B[39m(\u001B[38;5;28mself\u001B[39m):\n\u001B[1;32m--> 867\u001B[0m   \u001B[38;5;28;01mraise\u001B[39;00m \u001B[38;5;167;01mNotImplementedError\u001B[39;00m(\n\u001B[0;32m    868\u001B[0m       \u001B[38;5;124m\"\u001B[39m\u001B[38;5;124mCannot convert a symbolic Tensor (\u001B[39m\u001B[38;5;132;01m{}\u001B[39;00m\u001B[38;5;124m) to a numpy array.\u001B[39m\u001B[38;5;124m\"\u001B[39m\n\u001B[0;32m    869\u001B[0m       \u001B[38;5;124m\"\u001B[39m\u001B[38;5;124m This error may indicate that you\u001B[39m\u001B[38;5;124m'\u001B[39m\u001B[38;5;124mre trying to pass a Tensor to\u001B[39m\u001B[38;5;124m\"\u001B[39m\n\u001B[0;32m    870\u001B[0m       \u001B[38;5;124m\"\u001B[39m\u001B[38;5;124m a NumPy call, which is not supported\u001B[39m\u001B[38;5;124m\"\u001B[39m\u001B[38;5;241m.\u001B[39mformat(\u001B[38;5;28mself\u001B[39m\u001B[38;5;241m.\u001B[39mname))\n",
      "\u001B[1;31mNotImplementedError\u001B[0m: Cannot convert a symbolic Tensor (simple_rnn_21/strided_slice:0) to a numpy array. This error may indicate that you're trying to pass a Tensor to a NumPy call, which is not supported"
     ]
    }
   ],
   "source": [
    "def rnn_char_2_simple():\n",
    "    # tensor -> enorst\n",
    "    x = [[0, 0, 0, 0, 0, 1],  # t\n",
    "         [1, 0, 0, 0, 0, 0],  # e\n",
    "         [0, 1, 0, 0, 0, 0],  # n\n",
    "         [0, 0, 0, 0, 1, 0],  # s\n",
    "         [0, 0, 1, 0, 0, 0]]  # o\n",
    "    y = [0, 1, 4, 2, 3]       # e n s o r\n",
    "\n",
    "    x = [x]\n",
    "    y = [y]\n",
    "\n",
    "    vocab = sorted('tensor')\n",
    "    vocab = np.array(vocab)     # ['e' 'n' 'o' 'r' 's' 't']\n",
    "\n",
    "    model = keras.Sequential([\n",
    "        keras.layers.Input(shape=(5, 6)),\n",
    "        keras.layers.SimpleRNN(16, return_sequences=True),\n",
    "        keras.layers.Dense(6, activation='softmax')\n",
    "    ])\n",
    "\n",
    "    model.compile(optimizer=keras.optimizers.Adam(0.1),\n",
    "                  loss=keras.losses.sparse_categorical_crossentropy,\n",
    "                  metrics='acc')\n",
    "\n",
    "    model.fit(x, y, epochs=10, verbose=2)\n",
    "\n",
    "    # 퀴즈\n",
    "    # x, y를 3차원으로 변경했을 때의 에러를 수정하세요\n",
    "    p = model.predict(x, verbose=0)\n",
    "    print(p)\n",
    "\n",
    "    p_arg = np.argmax(p, axis=2)\n",
    "    print(p_arg)                # [[0 1 4 2 3]]\n",
    "\n",
    "    print('acc :', np.mean(p_arg == y))\n",
    "\n",
    "    # 퀴즈\n",
    "    # 예측 결과를 디코딩하세요\n",
    "    print([i for i in p_arg[0]])\n",
    "    print([vocab[i] for i in p_arg[0]])\n",
    "    print(vocab[p_arg[0]])\n",
    "    print(vocab[p_arg])\n",
    "\n",
    "\n",
    "# rnn_char_2_sorted()\n",
    "rnn_char_2_simple()\n"
   ],
   "metadata": {
    "collapsed": false,
    "ExecuteTime": {
     "end_time": "2024-02-27T02:11:59.213414800Z",
     "start_time": "2024-02-27T02:11:58.968100400Z"
    }
   }
  },
  {
   "cell_type": "code",
   "execution_count": 25,
   "outputs": [],
   "source": [],
   "metadata": {
    "collapsed": false,
    "ExecuteTime": {
     "end_time": "2024-02-27T02:03:49.622163700Z",
     "start_time": "2024-02-27T02:03:49.604197500Z"
    }
   }
  },
  {
   "cell_type": "code",
   "execution_count": null,
   "outputs": [],
   "source": [],
   "metadata": {
    "collapsed": false
   }
  }
 ],
 "metadata": {
  "kernelspec": {
   "display_name": "Python 3",
   "language": "python",
   "name": "python3"
  },
  "language_info": {
   "codemirror_mode": {
    "name": "ipython",
    "version": 2
   },
   "file_extension": ".py",
   "mimetype": "text/x-python",
   "name": "python",
   "nbconvert_exporter": "python",
   "pygments_lexer": "ipython2",
   "version": "2.7.6"
  }
 },
 "nbformat": 4,
 "nbformat_minor": 0
}
