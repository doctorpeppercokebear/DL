{
 "cells": [
  {
   "cell_type": "code",
   "execution_count": 2,
   "metadata": {
    "collapsed": true,
    "ExecuteTime": {
     "end_time": "2024-02-26T07:06:12.273516300Z",
     "start_time": "2024-02-26T07:06:12.257895400Z"
    }
   },
   "outputs": [
    {
     "name": "stdout",
     "output_type": "stream",
     "text": [
      "[['나는', '너를', '사랑해'], ['나는', '너를', '미워해']]\n"
     ]
    }
   ],
   "source": [
    "text = ['나는 너를 사랑해', '나는 너를 미워해']\n",
    "token = [s.split() for s in text]\n",
    "print(token)\n",
    "\n",
    "# word to vector\n",
    "# 나는 : 0, (1, 0), 0.7, (0.7, 0.3)\n",
    "# 너는 : 1, (0, 1), 0.2, (0.2, 0.3)"
   ]
  },
  {
   "cell_type": "code",
   "execution_count": 1,
   "outputs": [
    {
     "ename": "NameError",
     "evalue": "name 'token' is not defined",
     "output_type": "error",
     "traceback": [
      "\u001B[1;31m---------------------------------------------------------------------------\u001B[0m",
      "\u001B[1;31mNameError\u001B[0m                                 Traceback (most recent call last)",
      "Cell \u001B[1;32mIn[1], line 3\u001B[0m\n\u001B[0;32m      1\u001B[0m \u001B[38;5;28;01mimport\u001B[39;00m \u001B[38;5;21;01mgensim\u001B[39;00m\n\u001B[1;32m----> 3\u001B[0m embedding \u001B[38;5;241m=\u001B[39m gensim\u001B[38;5;241m.\u001B[39mmodels\u001B[38;5;241m.\u001B[39mWord2Vec(\u001B[43mtoken\u001B[49m, min_count\u001B[38;5;241m=\u001B[39m\u001B[38;5;241m1\u001B[39m, vector_size\u001B[38;5;241m=\u001B[39m\u001B[38;5;241m5\u001B[39m)\n\u001B[0;32m      4\u001B[0m \u001B[38;5;28mprint\u001B[39m(embedding)\n\u001B[0;32m      5\u001B[0m \u001B[38;5;28mprint\u001B[39m(embedding\u001B[38;5;241m.\u001B[39mwv\u001B[38;5;241m.\u001B[39mindex_to_key)\n",
      "\u001B[1;31mNameError\u001B[0m: name 'token' is not defined"
     ]
    }
   ],
   "source": [
    "import gensim\n",
    "\n",
    "embedding = gensim.models.Word2Vec(token, min_count=1, vector_size=5)\n",
    "print(embedding)\n",
    "print(embedding.wv.index_to_key)\n",
    "print(embedding.wv.vectors)\n",
    "\n",
    "embedding = gensim.models.Word2Vec(token, min_count=1, vector_size=5, sg=True)\n",
    "print(embedding)\n",
    "print(embedding.wv.index_to_key)\n",
    "print(embedding.wv.vectors)"
   ],
   "metadata": {
    "collapsed": false,
    "ExecuteTime": {
     "end_time": "2024-02-26T07:58:55.076468Z",
     "start_time": "2024-02-26T07:58:51.737234100Z"
    }
   }
  },
  {
   "cell_type": "code",
   "execution_count": null,
   "outputs": [],
   "source": [],
   "metadata": {
    "collapsed": false
   }
  }
 ],
 "metadata": {
  "kernelspec": {
   "display_name": "Python 3",
   "language": "python",
   "name": "python3"
  },
  "language_info": {
   "codemirror_mode": {
    "name": "ipython",
    "version": 2
   },
   "file_extension": ".py",
   "mimetype": "text/x-python",
   "name": "python",
   "nbconvert_exporter": "python",
   "pygments_lexer": "ipython2",
   "version": "2.7.6"
  }
 },
 "nbformat": 4,
 "nbformat_minor": 0
}
