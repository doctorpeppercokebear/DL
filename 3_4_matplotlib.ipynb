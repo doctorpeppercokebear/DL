{
 "cells": [
  {
   "cell_type": "code",
   "execution_count": 2,
   "metadata": {},
   "outputs": [
    {
     "name": "stdout",
     "output_type": "stream",
     "text": [
      "           순위:국가:미 달러($)\n",
      "0        1:룩셈부르크:101,715\n",
      "1           2:스위스:78,245\n",
      "2          3:노르웨이:73,450\n",
      "3           4:마카오:68,401\n",
      "4         5:아이슬란드:67,570\n",
      "..                   ...\n",
      "180       181:마다가스카르:393\n",
      "181          182:감비아:384\n",
      "182          183:말라위:353\n",
      "183  184:중앙 아프리카 공화국:339\n",
      "184          185:부룬디:315\n",
      "\n",
      "[185 rows x 1 columns]\n"
     ]
    }
   ],
   "source": [
    "import pandas as pd\n",
    "import matplotlib.pyplot as pyplot\n",
    "import numpy as np\n",
    "\n",
    "# 텍스트 파일 경로 설정\n",
    "filepath = 'data/2016_gdp.txt'\n",
    "\n",
    "# Pandas를 사용하여 텍스트 파일 읽기\n",
    "gdp = pd.read_csv(filepath, delimiter='\\t')  # 예시로 탭('\\t')을 구분자로 사용\n",
    "\n",
    "# 데이터프레임 확인\n",
    "print(gdp)"
   ]
  },
  {
   "cell_type": "code",
   "execution_count": 3,
   "metadata": {},
   "outputs": [
    {
     "ename": "NameError",
     "evalue": "name '국가' is not defined",
     "output_type": "error",
     "traceback": [
      "\u001b[1;31m---------------------------------------------------------------------------\u001b[0m",
      "\u001b[1;31mNameError\u001b[0m                                 Traceback (most recent call last)",
      "Cell \u001b[1;32mIn[3], line 1\u001b[0m\n\u001b[1;32m----> 1\u001b[0m gdp[국가]\u001b[38;5;241m.\u001b[39mvalue_counts()\n",
      "\u001b[1;31mNameError\u001b[0m: name '국가' is not defined"
     ]
    }
   ],
   "source": [
    "gdp[국가].value_counts()"
   ]
  },
  {
   "cell_type": "code",
   "execution_count": null,
   "metadata": {},
   "outputs": [],
   "source": []
  }
 ],
 "metadata": {
  "kernelspec": {
   "display_name": "base",
   "language": "python",
   "name": "python3"
  },
  "language_info": {
   "codemirror_mode": {
    "name": "ipython",
    "version": 3
   },
   "file_extension": ".py",
   "mimetype": "text/x-python",
   "name": "python",
   "nbconvert_exporter": "python",
   "pygments_lexer": "ipython3",
   "version": "3.11.5"
  }
 },
 "nbformat": 4,
 "nbformat_minor": 2
}
