{
 "cells": [
  {
   "cell_type": "code",
   "execution_count": 1,
   "metadata": {
    "collapsed": true,
    "ExecuteTime": {
     "end_time": "2024-02-02T03:11:11.916084500Z",
     "start_time": "2024-02-02T03:11:09.291513400Z"
    }
   },
   "outputs": [],
   "source": [
    "import torch\n",
    "import torch.nn as nn\n",
    "import torch.optim as optim\n",
    "from torchvision import datasets, transforms\n",
    "from torch.utils.data import DataLoader\n",
    "import torchvision.utils as vutils\n",
    "import numpy as np\n",
    "import matplotlib.pyplot as plt"
   ]
  },
  {
   "cell_type": "code",
   "execution_count": 2,
   "outputs": [],
   "source": [
    "# 재현성을 위한 랜덤 시드 설정\n",
    "manual_seed = 999\n",
    "torch.manual_seed(manual_seed)\n",
    "\n",
    "# 장치 설정\n",
    "device = torch.device(\"cuda\" if torch.cuda.is_available() else \"cpu\")"
   ],
   "metadata": {
    "collapsed": false,
    "ExecuteTime": {
     "end_time": "2024-02-02T03:11:31.117667Z",
     "start_time": "2024-02-02T03:11:31.109131400Z"
    }
   }
  },
  {
   "cell_type": "code",
   "execution_count": 3,
   "outputs": [],
   "source": [
    "class Generator(nn.Module):\n",
    "    def __init__(self, nz, ngf, nc):\n",
    "        super(Generator, self).__init__()\n",
    "        self.main = nn.Sequential(\n",
    "            nn.Linear(nz, 256),  # 입력 잡음 벡터를 받음\n",
    "            nn.ReLU(inplace=True),  # 활성화 함수: ReLU\n",
    "            nn.Linear(256, 512),  # 은닉층\n",
    "            nn.ReLU(inplace=True),  # 활성화 함수: ReLU\n",
    "            nn.Linear(512, 784),  # MNIST 이미지 크기 28x28에 대한 출력\n",
    "            nn.Tanh()  # 출력을 -1과 1 사이 값으로 조정\n",
    "        )\n",
    "\n",
    "    def forward(self, input):\n",
    "        return self.main(input).view(-1, 1, 28, 28)\n",
    "\n",
    "# 구분자 정의\n",
    "class Discriminator(nn.Module):\n",
    "    def __init__(self, nc, ndf):\n",
    "        super(Discriminator, self).__init__()\n",
    "        self.main = nn.Sequential(\n",
    "            nn.Linear(784, 512),  # 이미지를 1차원 벡터로 펼침\n",
    "            nn.ReLU(inplace=True),  # 활성화 함수: ReLU\n",
    "            nn.Linear(512, 256),  # 은닉층\n",
    "            nn.ReLU(inplace=True),  # 활성화 함수: ReLU\n",
    "            nn.Linear(256, 1)  # 하나의 스칼라 값으로 출력 (실제 또는 가짜)\n",
    "        )\n",
    "\n",
    "    def forward(self, input):\n",
    "        input = input.view(-1, 784)  # 이미지를 1차원 벡터로 펼침\n",
    "        return self.main(input)\n"
   ],
   "metadata": {
    "collapsed": false,
    "ExecuteTime": {
     "end_time": "2024-02-02T03:11:50.657639800Z",
     "start_time": "2024-02-02T03:11:50.641989500Z"
    }
   }
  },
  {
   "cell_type": "code",
   "execution_count": 4,
   "outputs": [],
   "source": [
    "# 파라미터 설정\n",
    "batch_size = 64  # 배치 크기\n",
    "nz = 100  # 잠재 벡터 크기\n",
    "ngf = 64  # 생성자의 특징 맵 크기\n",
    "ndf = 64  # 구분자의 특징 맵 크기\n",
    "nc = 1  # 이미지 채널 수 (흑백 이미지이므로 1)\n",
    "lr = 0.0002  # 학습률\n",
    "epochs = 20  # 총 훈련 반복 횟수\n"
   ],
   "metadata": {
    "collapsed": false,
    "ExecuteTime": {
     "end_time": "2024-02-02T03:13:19.986311800Z",
     "start_time": "2024-02-02T03:13:19.970689400Z"
    }
   }
  },
  {
   "cell_type": "code",
   "execution_count": 5,
   "outputs": [],
   "source": [
    "# 생성자와 구분자 생성\n",
    "netG = Generator(nz, ngf, nc).to(device)  # 생성자 객체 생성 및 GPU 또는 CPU에 로드\n",
    "netD = Discriminator(nc, ndf).to(device)  # 구분자 객체 생성 및 GPU 또는 CPU에 로드"
   ],
   "metadata": {
    "collapsed": false,
    "ExecuteTime": {
     "end_time": "2024-02-02T03:13:34.963056Z",
     "start_time": "2024-02-02T03:13:34.947435800Z"
    }
   }
  },
  {
   "cell_type": "code",
   "execution_count": 6,
   "outputs": [
    {
     "data": {
      "text/plain": "Discriminator(\n  (main): Sequential(\n    (0): Linear(in_features=784, out_features=512, bias=True)\n    (1): ReLU(inplace=True)\n    (2): Linear(in_features=512, out_features=256, bias=True)\n    (3): ReLU(inplace=True)\n    (4): Linear(in_features=256, out_features=1, bias=True)\n  )\n)"
     },
     "execution_count": 6,
     "metadata": {},
     "output_type": "execute_result"
    }
   ],
   "source": [
    "# 가중치 초기화 함수 정의\n",
    "def weights_init(m):\n",
    "    classname = m.__class__.__name__\n",
    "    if classname.find('Linear') != -1:\n",
    "        nn.init.normal_(m.weight.data, 0.0, 0.02)\n",
    "        nn.init.constant_(m.bias.data, 0)\n",
    "\n",
    "# 생성자와 구분자의 가중치 초기화\n",
    "netG.apply(weights_init)\n",
    "netD.apply(weights_init)"
   ],
   "metadata": {
    "collapsed": false,
    "ExecuteTime": {
     "end_time": "2024-02-02T03:13:44.589392Z",
     "start_time": "2024-02-02T03:13:44.526909200Z"
    }
   }
  },
  {
   "cell_type": "code",
   "execution_count": 7,
   "outputs": [],
   "source": [
    "# 옵티마이저 생성\n",
    "optimizerG = optim.Adam(netG.parameters(), lr=lr, betas=(0.5, 0.999))  # 생성자용 Adam 옵티마이저\n",
    "optimizerD = optim.Adam(netD.parameters(), lr=lr, betas=(0.5, 0.999))  # 구분자용 Adam 옵티마이저\n",
    "\n",
    "# 손실 함수 정의\n",
    "criterion = nn.MSELoss()  # 손실 함수: 평균 제곱 오차"
   ],
   "metadata": {
    "collapsed": false,
    "ExecuteTime": {
     "end_time": "2024-02-02T03:13:58.774428400Z",
     "start_time": "2024-02-02T03:13:58.758805200Z"
    }
   }
  },
  {
   "cell_type": "code",
   "execution_count": 8,
   "outputs": [],
   "source": [
    "# 데이터 로딩\n",
    "transform = transforms.Compose([\n",
    "    transforms.ToTensor(),  # 이미지를 텐서로 변환\n",
    "    transforms.Normalize((0.5,), (0.5,))  # 이미지를 -1에서 1로 정규화\n",
    "])\n",
    "\n",
    "dataset = datasets.MNIST(root='./data', train=True, download=True, transform=transform)  # MNIST 데이터셋 로드\n",
    "dataloader = DataLoader(dataset, batch_size=batch_size, shuffle=True, num_workers=2)  # 데이터 로더 생성"
   ],
   "metadata": {
    "collapsed": false,
    "ExecuteTime": {
     "end_time": "2024-02-02T03:14:19.595395Z",
     "start_time": "2024-02-02T03:14:19.536082600Z"
    }
   }
  },
  {
   "cell_type": "code",
   "execution_count": 9,
   "outputs": [],
   "source": [
    "# 생성된 이미지 저장 및 시각화를 위한 변수 초기화\n",
    "img_list = []\n",
    "fixed_noise = torch.randn(64, nz, device=device)\n",
    "\n",
    "# 훈련 루프\n",
    "for epoch in range(epochs):\n",
    "    for i, data in enumerate(dataloader, 0):\n",
    "        # 구분자 업데이트\n",
    "        netD.zero_grad()  # 구분자의 그래디언트 초기화\n",
    "        real_cpu = data[0].to(device)  # 실제 데이터 배치를 GPU 또는 CPU에 로드\n",
    "        batch_size = real_cpu.size(0)  # 배치 크기 가져오기\n",
    "        label = torch.full((batch_size,), 1, dtype=torch.float, device=device)  # 실제 이미지용 레이블\n",
    "\n",
    "        output = netD(real_cpu).view(-1)  # 실제 이미지를 구분자에 전달하여 출력 계산\n",
    "        errD_real = criterion(output, label)  # 실제 이미지에 대한 손실 계산\n",
    "        errD_real.backward()  # 실제 이미지에 대한 그래디언트 계산\n",
    "        D_x = output.mean().item()  # 실제 이미지에 대한 구분자의 평균 출력 계산\n",
    "\n",
    "        noise = torch.randn(batch_size, nz, device=device)  # 잠재 벡터 생성"
   ],
   "metadata": {
    "collapsed": false,
    "ExecuteTime": {
     "end_time": "2024-02-02T03:17:31.124211400Z",
     "start_time": "2024-02-02T03:14:31.357742500Z"
    }
   }
  },
  {
   "cell_type": "code",
   "execution_count": null,
   "outputs": [],
   "source": [],
   "metadata": {
    "collapsed": false
   }
  }
 ],
 "metadata": {
  "kernelspec": {
   "display_name": "Python 3",
   "language": "python",
   "name": "python3"
  },
  "language_info": {
   "codemirror_mode": {
    "name": "ipython",
    "version": 2
   },
   "file_extension": ".py",
   "mimetype": "text/x-python",
   "name": "python",
   "nbconvert_exporter": "python",
   "pygments_lexer": "ipython2",
   "version": "2.7.6"
  }
 },
 "nbformat": 4,
 "nbformat_minor": 0
}
