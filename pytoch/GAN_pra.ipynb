{
 "cells": [
  {
   "cell_type": "code",
   "execution_count": 1,
   "metadata": {
    "collapsed": true,
    "ExecuteTime": {
     "end_time": "2024-02-01T23:58:52.690573400Z",
     "start_time": "2024-02-01T23:58:49.760413200Z"
    }
   },
   "outputs": [],
   "source": [
    "import os\n",
    "import torch\n",
    "import torchvision\n",
    "import torch.nn as nn\n",
    "from torchvision import transforms\n",
    "from torchvision.utils import save_image\n",
    "import torchvision.utils as utils\n",
    "from torch.utils.data import DataLoader"
   ]
  },
  {
   "cell_type": "code",
   "execution_count": 2,
   "outputs": [],
   "source": [
    "# Device configuration\n",
    "device = torch.device('cuda' if torch.cuda.is_available() else 'cpu')\n"
   ],
   "metadata": {
    "collapsed": false,
    "ExecuteTime": {
     "end_time": "2024-02-02T00:01:48.801914700Z",
     "start_time": "2024-02-02T00:01:48.770352200Z"
    }
   }
  },
  {
   "cell_type": "code",
   "execution_count": 6,
   "outputs": [],
   "source": [
    "# Hyper-parameters\n",
    "latent_size = 64\n",
    "hidden_size = 256\n",
    "image_size = 784\n",
    "num_epochs = 200\n",
    "batch_size = 100\n",
    "sample_dir = 'samples'"
   ],
   "metadata": {
    "collapsed": false,
    "ExecuteTime": {
     "end_time": "2024-02-01T07:38:38.537869900Z",
     "start_time": "2024-02-01T07:38:38.522564500Z"
    }
   }
  },
  {
   "cell_type": "code",
   "execution_count": 7,
   "outputs": [],
   "source": [
    "# Creat a directory if not exists\n",
    "if not os.path.exists(sample_dir):\n",
    "    os.makedirs(sample_dir)\n",
    "\n",
    "transforms = transforms.Compose([\n",
    "    transforms.ToTensor(),\n",
    "    transforms.Normalize(mean=[0.5],\n",
    "                         std=[0.5])\n",
    "])\n"
   ],
   "metadata": {
    "collapsed": false,
    "ExecuteTime": {
     "end_time": "2024-02-01T07:38:39.457514600Z",
     "start_time": "2024-02-01T07:38:39.438932400Z"
    }
   }
  },
  {
   "cell_type": "code",
   "execution_count": 8,
   "outputs": [
    {
     "name": "stdout",
     "output_type": "stream",
     "text": [
      "Downloading http://yann.lecun.com/exdb/mnist/train-images-idx3-ubyte.gz\n",
      "Downloading http://yann.lecun.com/exdb/mnist/train-images-idx3-ubyte.gz to ../../data/MNIST\\raw\\train-images-idx3-ubyte.gz\n"
     ]
    },
    {
     "name": "stderr",
     "output_type": "stream",
     "text": [
      "100.0%\n"
     ]
    },
    {
     "name": "stdout",
     "output_type": "stream",
     "text": [
      "Extracting ../../data/MNIST\\raw\\train-images-idx3-ubyte.gz to ../../data/MNIST\\raw\n",
      "\n",
      "Downloading http://yann.lecun.com/exdb/mnist/train-labels-idx1-ubyte.gz\n",
      "Downloading http://yann.lecun.com/exdb/mnist/train-labels-idx1-ubyte.gz to ../../data/MNIST\\raw\\train-labels-idx1-ubyte.gz\n"
     ]
    },
    {
     "name": "stderr",
     "output_type": "stream",
     "text": [
      "100.0%\n"
     ]
    },
    {
     "name": "stdout",
     "output_type": "stream",
     "text": [
      "Extracting ../../data/MNIST\\raw\\train-labels-idx1-ubyte.gz to ../../data/MNIST\\raw\n",
      "\n",
      "Downloading http://yann.lecun.com/exdb/mnist/t10k-images-idx3-ubyte.gz\n",
      "Downloading http://yann.lecun.com/exdb/mnist/t10k-images-idx3-ubyte.gz to ../../data/MNIST\\raw\\t10k-images-idx3-ubyte.gz\n"
     ]
    },
    {
     "name": "stderr",
     "output_type": "stream",
     "text": [
      "100.0%\n"
     ]
    },
    {
     "name": "stdout",
     "output_type": "stream",
     "text": [
      "Extracting ../../data/MNIST\\raw\\t10k-images-idx3-ubyte.gz to ../../data/MNIST\\raw\n",
      "\n",
      "Downloading http://yann.lecun.com/exdb/mnist/t10k-labels-idx1-ubyte.gz\n",
      "Downloading http://yann.lecun.com/exdb/mnist/t10k-labels-idx1-ubyte.gz to ../../data/MNIST\\raw\\t10k-labels-idx1-ubyte.gz\n"
     ]
    },
    {
     "name": "stderr",
     "output_type": "stream",
     "text": [
      "100.0%"
     ]
    },
    {
     "name": "stdout",
     "output_type": "stream",
     "text": [
      "Extracting ../../data/MNIST\\raw\\t10k-labels-idx1-ubyte.gz to ../../data/MNIST\\raw\n",
      "\n"
     ]
    },
    {
     "name": "stderr",
     "output_type": "stream",
     "text": [
      "\n"
     ]
    }
   ],
   "source": [
    "# MNIST dataset\n",
    "mnist = torchvision.datasets.MNIST(root='../../data/',\n",
    "                                   train=True,\n",
    "                                   transform=transforms,\n",
    "                                   download=True)"
   ],
   "metadata": {
    "collapsed": false,
    "ExecuteTime": {
     "end_time": "2024-02-01T07:42:32.305252700Z",
     "start_time": "2024-02-01T07:42:27.306277200Z"
    }
   }
  },
  {
   "cell_type": "code",
   "execution_count": 9,
   "outputs": [],
   "source": [
    "# Data loader\n",
    "data_loader = torch.utils.data.DataLoader(dataset = mnist,\n",
    "                                          batch_size=batch_size,\n",
    "                                          shuffle=True)"
   ],
   "metadata": {
    "collapsed": false,
    "ExecuteTime": {
     "end_time": "2024-02-01T07:44:11.487681800Z",
     "start_time": "2024-02-01T07:44:11.470632Z"
    }
   }
  },
  {
   "cell_type": "code",
   "execution_count": 12,
   "outputs": [
    {
     "ename": "NameError",
     "evalue": "name 'train_data_loader' is not defined",
     "output_type": "error",
     "traceback": [
      "\u001B[1;31m---------------------------------------------------------------------------\u001B[0m",
      "\u001B[1;31mNameError\u001B[0m                                 Traceback (most recent call last)",
      "Cell \u001B[1;32mIn[12], line 17\u001B[0m\n\u001B[0;32m     14\u001B[0m     plt\u001B[38;5;241m.\u001B[39mimshow(npimg, (\u001B[38;5;241m1\u001B[39m, \u001B[38;5;241m2\u001B[39m, \u001B[38;5;241m0\u001B[39m))\n\u001B[0;32m     15\u001B[0m     plt\u001B[38;5;241m.\u001B[39mshow()\n\u001B[1;32m---> 17\u001B[0m example_mini_batch_img, example_mini_batch_label \u001B[38;5;241m=\u001B[39m \u001B[38;5;28mnext\u001B[39m(\u001B[38;5;28miter\u001B[39m(\u001B[43mtrain_data_loader\u001B[49m))\n\u001B[0;32m     18\u001B[0m imshow_grid(example_mini_batch_img[\u001B[38;5;241m0\u001B[39m:\u001B[38;5;241m16\u001B[39m,:,:])\n",
      "\u001B[1;31mNameError\u001B[0m: name 'train_data_loader' is not defined"
     ]
    }
   ],
   "source": [
    "import numpy as np\n",
    "import matplotlib.pyplot as plt\n",
    "def imshow(img):\n",
    "    img = (img+1) / 2\n",
    "    img = img.squeeze()\n",
    "    np_img = img.numpy()\n",
    "    plt.imshow(np_img, cmap='gray')\n",
    "    plt.show()\n",
    "\n",
    "def imshow_grid(img):\n",
    "    img = utils.make_grid(img.cpu().detach())\n",
    "    img = (img+1) / 2\n",
    "    npimg = img.numpy()\n",
    "    plt.imshow(npimg, (1, 2, 0))\n",
    "    plt.show()\n",
    "\n",
    "example_mini_batch_img, example_mini_batch_label = next(iter(train_data_loader))\n",
    "imshow_grid(example_mini_batch_img[0:16,:,:])"
   ],
   "metadata": {
    "collapsed": false,
    "ExecuteTime": {
     "end_time": "2024-02-01T07:58:31.923002100Z",
     "start_time": "2024-02-01T07:58:31.891759600Z"
    }
   }
  },
  {
   "cell_type": "code",
   "execution_count": 13,
   "outputs": [
    {
     "ename": "NameError",
     "evalue": "name 'img_size' is not defined",
     "output_type": "error",
     "traceback": [
      "\u001B[1;31m---------------------------------------------------------------------------\u001B[0m",
      "\u001B[1;31mNameError\u001B[0m                                 Traceback (most recent call last)",
      "Cell \u001B[1;32mIn[13], line 3\u001B[0m\n\u001B[0;32m      1\u001B[0m \u001B[38;5;66;03m# Discriminator 판별자 생성\u001B[39;00m\n\u001B[0;32m      2\u001B[0m D \u001B[38;5;241m=\u001B[39m nn\u001B[38;5;241m.\u001B[39mSequential(\n\u001B[1;32m----> 3\u001B[0m     nn\u001B[38;5;241m.\u001B[39mLinear(\u001B[43mimg_size\u001B[49m, hidden_size),\n\u001B[0;32m      4\u001B[0m     nn\u001B[38;5;241m.\u001B[39mLeakyReLU(\u001B[38;5;241m0.2\u001B[39m),\n\u001B[0;32m      5\u001B[0m     nn\u001B[38;5;241m.\u001B[39mLinear(hidden_size, hidden_size),\n\u001B[0;32m      6\u001B[0m     nn\u001B[38;5;241m.\u001B[39mLeakyReLU(\u001B[38;5;241m0.2\u001B[39m),\n\u001B[0;32m      7\u001B[0m     nn\u001B[38;5;241m.\u001B[39mLinear(hidden_size, \u001B[38;5;241m1\u001B[39m),\n\u001B[0;32m      8\u001B[0m     nn\u001B[38;5;241m.\u001B[39mReLU()\n\u001B[0;32m      9\u001B[0m )\n\u001B[0;32m     11\u001B[0m \u001B[38;5;66;03m# Generator\u001B[39;00m\n\u001B[0;32m     12\u001B[0m G \u001B[38;5;241m=\u001B[39m nn\u001B[38;5;241m.\u001B[39mSequential(\n\u001B[0;32m     13\u001B[0m     nn\u001B[38;5;241m.\u001B[39mLinear(latent_size, hidden_size),\n\u001B[0;32m     14\u001B[0m     nn\u001B[38;5;241m.\u001B[39mReLU(),\n\u001B[1;32m   (...)\u001B[0m\n\u001B[0;32m     18\u001B[0m     nn\u001B[38;5;241m.\u001B[39mTanh()\n\u001B[0;32m     19\u001B[0m )\n",
      "\u001B[1;31mNameError\u001B[0m: name 'img_size' is not defined"
     ]
    }
   ],
   "source": [
    "# Discriminator 판별자 생성\n",
    "D = nn.Sequential(\n",
    "    nn.Linear(img_size, hidden_size),\n",
    "    nn.LeakyReLU(0.2),\n",
    "    nn.Linear(hidden_size, hidden_size),\n",
    "    nn.LeakyReLU(0.2),\n",
    "    nn.Linear(hidden_size, 1),\n",
    "    nn.ReLU()\n",
    ")\n",
    "\n",
    "# Generator\n",
    "G = nn.Sequential(\n",
    "    nn.Linear(latent_size, hidden_size),\n",
    "    nn.ReLU(),\n",
    "    nn.Linear(hidden_size, hidden_size),\n",
    "    nn.ReLU(),\n",
    "    nn.Linear(hidden_size, hidden_size),\n",
    "    nn.Tanh()\n",
    ")\n",
    "\n",
    "# Device setting\n",
    "D = D.to(device)\n",
    "G = G.to(device)\n",
    "\n",
    "# Binary cross entropy loss and optimizer\n",
    "ciriterion = nn.BCELoss()\n",
    "d_optimizer = torch.optim.Adam(D.parameters(), lr=0.0002)\n",
    "g_optimizer = torch.optim.Adam(G.parameters(), lr=0.0002)\n"
   ],
   "metadata": {
    "collapsed": false,
    "ExecuteTime": {
     "end_time": "2024-02-01T08:11:28.870736200Z",
     "start_time": "2024-02-01T08:11:28.839368900Z"
    }
   }
  },
  {
   "cell_type": "code",
   "execution_count": null,
   "outputs": [],
   "source": [
    " while True:\n",
    "    #train D\n",
    "    loss = criterion(D(x), 1) + criterion(D(G(z),0))\n",
    "    loss.backward()\n",
    "    d_optimizer.step()\n",
    "\n",
    "    # train G\n",
    "    loss = criterion(D(G(z), 1))\n",
    "    loss.backward()\n",
    "    g_optimizer.step()"
   ],
   "metadata": {
    "collapsed": false
   }
  }
 ],
 "metadata": {
  "kernelspec": {
   "display_name": "Python 3",
   "language": "python",
   "name": "python3"
  },
  "language_info": {
   "codemirror_mode": {
    "name": "ipython",
    "version": 2
   },
   "file_extension": ".py",
   "mimetype": "text/x-python",
   "name": "python",
   "nbconvert_exporter": "python",
   "pygments_lexer": "ipython2",
   "version": "2.7.6"
  }
 },
 "nbformat": 4,
 "nbformat_minor": 0
}
