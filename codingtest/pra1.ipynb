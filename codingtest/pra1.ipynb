{
 "cells": [
  {
   "cell_type": "markdown",
   "source": [
    "n = 3 일 때 [ 1 2 3\n",
    "             8  9 4\n",
    "             7 6 5]\n",
    "n = 4 일 떄 [1  2  3  4\n",
    "            12 13 14 5\n",
    "            11 16 15 6\n",
    "            10 9  8  7]\n",
    "\n",
    "출력"
   ],
   "metadata": {
    "collapsed": false
   }
  },
  {
   "cell_type": "code",
   "execution_count": 8,
   "outputs": [
    {
     "ename": "TypeError",
     "evalue": "'list' object is not callable",
     "output_type": "error",
     "traceback": [
      "\u001B[1;31m---------------------------------------------------------------------------\u001B[0m",
      "\u001B[1;31mTypeError\u001B[0m                                 Traceback (most recent call last)",
      "Cell \u001B[1;32mIn[8], line 3\u001B[0m\n\u001B[0;32m      1\u001B[0m n \u001B[38;5;241m=\u001B[39m \u001B[38;5;241m3\u001B[39m\n\u001B[0;32m      2\u001B[0m my_list \u001B[38;5;241m=\u001B[39m []\n\u001B[1;32m----> 3\u001B[0m my_list \u001B[38;5;241m=\u001B[39m \u001B[43mmy_list\u001B[49m\u001B[43m(\u001B[49m\u001B[38;5;28;43mrange\u001B[39;49m\u001B[43m(\u001B[49m\u001B[38;5;241;43m1\u001B[39;49m\u001B[43m,\u001B[49m\u001B[43m \u001B[49m\u001B[43mn\u001B[49m\u001B[38;5;241;43m*\u001B[39;49m\u001B[38;5;241;43m*\u001B[39;49m\u001B[38;5;241;43m2\u001B[39;49m\u001B[43m)\u001B[49m\u001B[43m)\u001B[49m\n",
      "\u001B[1;31mTypeError\u001B[0m: 'list' object is not callable"
     ]
    }
   ],
   "source": [
    "import numpy as np\n",
    "\n",
    "n = 3\n",
    "my_list = []\n",
    "my_list = my_list(range(1, n**2))\n"
   ],
   "metadata": {
    "collapsed": false,
    "ExecuteTime": {
     "end_time": "2024-02-06T05:28:04.315168400Z",
     "start_time": "2024-02-06T05:28:04.283099400Z"
    }
   }
  },
  {
   "cell_type": "code",
   "execution_count": 10,
   "outputs": [
    {
     "name": "stdout",
     "output_type": "stream",
     "text": [
      "[]\n",
      "[]\n",
      "[]\n",
      "[]\n",
      "[]\n",
      "[]\n",
      "[]\n",
      "[]\n"
     ]
    }
   ],
   "source": [
    "n = 3\n",
    "my_list = []\n",
    "for i in range(1, n**2):\n",
    "    print(my_list)\n"
   ],
   "metadata": {
    "collapsed": false,
    "ExecuteTime": {
     "end_time": "2024-02-06T05:33:03.121524800Z",
     "start_time": "2024-02-06T05:33:03.074538100Z"
    }
   }
  },
  {
   "cell_type": "code",
   "execution_count": 12,
   "outputs": [
    {
     "name": "stdout",
     "output_type": "stream",
     "text": [
      "[[0. 0. 0. 0.]\n",
      " [0. 0. 0. 0.]\n",
      " [0. 0. 0. 0.]\n",
      " [0. 0. 0. 0.]]\n"
     ]
    }
   ],
   "source": [
    "n = 4\n",
    "import numpy as np\n",
    "result = np.zeros((n, n))\n",
    "print(result)"
   ],
   "metadata": {
    "collapsed": false,
    "ExecuteTime": {
     "end_time": "2024-02-06T05:41:28.604001600Z",
     "start_time": "2024-02-06T05:41:28.588381500Z"
    }
   }
  },
  {
   "cell_type": "code",
   "execution_count": 13,
   "outputs": [],
   "source": [
    "for i in range(4):\n",
    "    result"
   ],
   "metadata": {
    "collapsed": false,
    "ExecuteTime": {
     "end_time": "2024-02-06T08:13:56.703124500Z",
     "start_time": "2024-02-06T08:13:56.687471900Z"
    }
   }
  },
  {
   "cell_type": "code",
   "execution_count": 14,
   "outputs": [
    {
     "data": {
      "text/plain": "array([[0., 0., 0., 0., 0., 0., 0., 0., 0., 0.],\n       [0., 0., 0., 0., 0., 0., 0., 0., 0., 0.],\n       [0., 0., 0., 0., 0., 0., 0., 0., 0., 0.],\n       [0., 0., 0., 0., 0., 0., 0., 0., 0., 0.],\n       [0., 0., 0., 0., 0., 0., 0., 0., 0., 0.],\n       [0., 0., 0., 0., 0., 0., 0., 0., 0., 0.],\n       [0., 0., 0., 0., 0., 0., 0., 0., 0., 0.],\n       [0., 0., 0., 0., 0., 0., 0., 0., 0., 0.],\n       [0., 0., 0., 0., 0., 0., 0., 0., 0., 0.],\n       [0., 0., 0., 0., 0., 0., 0., 0., 0., 0.]])"
     },
     "execution_count": 14,
     "metadata": {},
     "output_type": "execute_result"
    }
   ],
   "source": [
    "n = 10\n",
    "import numpy as np\n",
    "result = np.zeros((n,n))\n",
    "result"
   ],
   "metadata": {
    "collapsed": false,
    "ExecuteTime": {
     "end_time": "2024-02-06T08:14:06.538210700Z",
     "start_time": "2024-02-06T08:14:06.493476400Z"
    }
   }
  },
  {
   "cell_type": "code",
   "execution_count": 15,
   "outputs": [
    {
     "data": {
      "text/plain": "array([[  1.,   2.,   3.,   4.,   5.,   6.,   7.,   8.,   9.,  10.],\n       [ 36.,  37.,  38.,  39.,  40.,  41.,  42.,  43.,  44.,  11.],\n       [ 35.,  64.,  65.,  66.,  67.,  68.,  69.,  70.,  45.,  12.],\n       [ 34.,  63.,  84.,  85.,  86.,  87.,  88.,  71.,  46.,  13.],\n       [ 33.,  62.,  83.,  96.,  97.,  98.,  89.,  72.,  47.,  14.],\n       [ 32.,  61.,  82.,  95., 100.,  99.,  90.,  73.,  48.,  15.],\n       [ 31.,  60.,  81.,  94.,  93.,  92.,  91.,  74.,  49.,  16.],\n       [ 30.,  59.,  80.,  79.,  78.,  77.,  76.,  75.,  50.,  17.],\n       [ 29.,  58.,  57.,  56.,  55.,  54.,  53.,  52.,  51.,  18.],\n       [ 28.,  27.,  26.,  25.,  24.,  23.,  22.,  21.,  20.,  19.]])"
     },
     "execution_count": 15,
     "metadata": {},
     "output_type": "execute_result"
    }
   ],
   "source": [
    "num = 1\n",
    "i = 0\n",
    "j = -1\n",
    "trans_num = 1\n",
    "\n",
    "while n > 0 :\n",
    "# 열 증가\n",
    "    for _ in range(n):\n",
    "        j += trans_num\n",
    "        result[i][j] = num\n",
    "        num += 1\n",
    "    n -= 1\n",
    "    #행 증가\n",
    "    for _ in range(n):\n",
    "        i += trans_num\n",
    "        result[i][j] = num\n",
    "        num += 1\n",
    "    trans_num *= -1\n",
    "result"
   ],
   "metadata": {
    "collapsed": false,
    "ExecuteTime": {
     "end_time": "2024-02-06T08:14:17.811533900Z",
     "start_time": "2024-02-06T08:14:17.771284Z"
    }
   }
  },
  {
   "cell_type": "code",
   "execution_count": null,
   "outputs": [],
   "source": [],
   "metadata": {
    "collapsed": false
   }
  }
 ],
 "metadata": {
  "kernelspec": {
   "display_name": "Python 3",
   "language": "python",
   "name": "python3"
  },
  "language_info": {
   "codemirror_mode": {
    "name": "ipython",
    "version": 2
   },
   "file_extension": ".py",
   "mimetype": "text/x-python",
   "name": "python",
   "nbconvert_exporter": "python",
   "pygments_lexer": "ipython2",
   "version": "2.7.6"
  }
 },
 "nbformat": 4,
 "nbformat_minor": 0
}
